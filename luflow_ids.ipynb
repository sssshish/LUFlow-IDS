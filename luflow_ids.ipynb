{
  "cells": [
    {
      "cell_type": "code",
      "execution_count": null,
      "id": "a44c1bf9",
      "metadata": {
        "_cell_guid": "b1076dfc-b9ad-4769-8c92-a6c4dae69d19",
        "_uuid": "8f2839f25d086af736a60e9eeb907d3b93b6e0e5",
        "colab": {
          "base_uri": "https://localhost:8080/",
          "height": 407
        },
        "execution": {
          "iopub.execute_input": "2023-09-23T20:35:08.732971Z",
          "iopub.status.busy": "2023-09-23T20:35:08.732498Z",
          "iopub.status.idle": "2023-09-23T20:35:10.004624Z",
          "shell.execute_reply": "2023-09-23T20:35:10.003258Z"
        },
        "id": "a44c1bf9",
        "outputId": "f0fd690c-ae18-46a5-88b0-0a289fe8f7c5",
        "papermill": {
          "duration": 1.294551,
          "end_time": "2023-09-23T20:35:10.007080",
          "exception": false,
          "start_time": "2023-09-23T20:35:08.712529",
          "status": "completed"
        },
        "tags": []
      },
      "outputs": [
        {
          "ename": "FileNotFoundError",
          "evalue": "ignored",
          "output_type": "error",
          "traceback": [
            "\u001b[0;31m---------------------------------------------------------------------------\u001b[0m",
            "\u001b[0;31mFileNotFoundError\u001b[0m                         Traceback (most recent call last)",
            "\u001b[0;32m<ipython-input-2-a45552b6a816>\u001b[0m in \u001b[0;36m<cell line: 12>\u001b[0;34m()\u001b[0m\n\u001b[1;32m     10\u001b[0m \u001b[0;31m# read the data\u001b[0m\u001b[0;34m\u001b[0m\u001b[0;34m\u001b[0m\u001b[0m\n\u001b[1;32m     11\u001b[0m \u001b[0mdf1\u001b[0m \u001b[0;34m=\u001b[0m \u001b[0mpd\u001b[0m\u001b[0;34m.\u001b[0m\u001b[0mread_csv\u001b[0m\u001b[0;34m(\u001b[0m\u001b[0;34m'2022.06.12.csv'\u001b[0m\u001b[0;34m)\u001b[0m\u001b[0;34m\u001b[0m\u001b[0;34m\u001b[0m\u001b[0m\n\u001b[0;32m---> 12\u001b[0;31m \u001b[0mdf2\u001b[0m \u001b[0;34m=\u001b[0m \u001b[0mpd\u001b[0m\u001b[0;34m.\u001b[0m\u001b[0mread_csv\u001b[0m\u001b[0;34m(\u001b[0m\u001b[0;34m'2022.06.13.csv'\u001b[0m\u001b[0;34m)\u001b[0m\u001b[0;34m\u001b[0m\u001b[0;34m\u001b[0m\u001b[0m\n\u001b[0m\u001b[1;32m     13\u001b[0m \u001b[0mdf3\u001b[0m \u001b[0;34m=\u001b[0m \u001b[0mpd\u001b[0m\u001b[0;34m.\u001b[0m\u001b[0mread_csv\u001b[0m\u001b[0;34m(\u001b[0m\u001b[0;34m'2022.06.14.csv'\u001b[0m\u001b[0;34m)\u001b[0m\u001b[0;34m\u001b[0m\u001b[0;34m\u001b[0m\u001b[0m\n\u001b[1;32m     14\u001b[0m \u001b[0mdf_dataset\u001b[0m \u001b[0;34m=\u001b[0m \u001b[0mpd\u001b[0m\u001b[0;34m.\u001b[0m\u001b[0mconcat\u001b[0m\u001b[0;34m(\u001b[0m\u001b[0;34m[\u001b[0m\u001b[0mdf1\u001b[0m\u001b[0;34m,\u001b[0m \u001b[0mdf2\u001b[0m\u001b[0;34m,\u001b[0m \u001b[0mdf3\u001b[0m\u001b[0;34m]\u001b[0m\u001b[0;34m)\u001b[0m\u001b[0;34m\u001b[0m\u001b[0;34m\u001b[0m\u001b[0m\n",
            "\u001b[0;32m/usr/local/lib/python3.10/dist-packages/pandas/util/_decorators.py\u001b[0m in \u001b[0;36mwrapper\u001b[0;34m(*args, **kwargs)\u001b[0m\n\u001b[1;32m    209\u001b[0m                 \u001b[0;32melse\u001b[0m\u001b[0;34m:\u001b[0m\u001b[0;34m\u001b[0m\u001b[0;34m\u001b[0m\u001b[0m\n\u001b[1;32m    210\u001b[0m                     \u001b[0mkwargs\u001b[0m\u001b[0;34m[\u001b[0m\u001b[0mnew_arg_name\u001b[0m\u001b[0;34m]\u001b[0m \u001b[0;34m=\u001b[0m \u001b[0mnew_arg_value\u001b[0m\u001b[0;34m\u001b[0m\u001b[0;34m\u001b[0m\u001b[0m\n\u001b[0;32m--> 211\u001b[0;31m             \u001b[0;32mreturn\u001b[0m \u001b[0mfunc\u001b[0m\u001b[0;34m(\u001b[0m\u001b[0;34m*\u001b[0m\u001b[0margs\u001b[0m\u001b[0;34m,\u001b[0m \u001b[0;34m**\u001b[0m\u001b[0mkwargs\u001b[0m\u001b[0;34m)\u001b[0m\u001b[0;34m\u001b[0m\u001b[0;34m\u001b[0m\u001b[0m\n\u001b[0m\u001b[1;32m    212\u001b[0m \u001b[0;34m\u001b[0m\u001b[0m\n\u001b[1;32m    213\u001b[0m         \u001b[0;32mreturn\u001b[0m \u001b[0mcast\u001b[0m\u001b[0;34m(\u001b[0m\u001b[0mF\u001b[0m\u001b[0;34m,\u001b[0m \u001b[0mwrapper\u001b[0m\u001b[0;34m)\u001b[0m\u001b[0;34m\u001b[0m\u001b[0;34m\u001b[0m\u001b[0m\n",
            "\u001b[0;32m/usr/local/lib/python3.10/dist-packages/pandas/util/_decorators.py\u001b[0m in \u001b[0;36mwrapper\u001b[0;34m(*args, **kwargs)\u001b[0m\n\u001b[1;32m    329\u001b[0m                     \u001b[0mstacklevel\u001b[0m\u001b[0;34m=\u001b[0m\u001b[0mfind_stack_level\u001b[0m\u001b[0;34m(\u001b[0m\u001b[0;34m)\u001b[0m\u001b[0;34m,\u001b[0m\u001b[0;34m\u001b[0m\u001b[0;34m\u001b[0m\u001b[0m\n\u001b[1;32m    330\u001b[0m                 )\n\u001b[0;32m--> 331\u001b[0;31m             \u001b[0;32mreturn\u001b[0m \u001b[0mfunc\u001b[0m\u001b[0;34m(\u001b[0m\u001b[0;34m*\u001b[0m\u001b[0margs\u001b[0m\u001b[0;34m,\u001b[0m \u001b[0;34m**\u001b[0m\u001b[0mkwargs\u001b[0m\u001b[0;34m)\u001b[0m\u001b[0;34m\u001b[0m\u001b[0;34m\u001b[0m\u001b[0m\n\u001b[0m\u001b[1;32m    332\u001b[0m \u001b[0;34m\u001b[0m\u001b[0m\n\u001b[1;32m    333\u001b[0m         \u001b[0;31m# error: \"Callable[[VarArg(Any), KwArg(Any)], Any]\" has no\u001b[0m\u001b[0;34m\u001b[0m\u001b[0;34m\u001b[0m\u001b[0m\n",
            "\u001b[0;32m/usr/local/lib/python3.10/dist-packages/pandas/io/parsers/readers.py\u001b[0m in \u001b[0;36mread_csv\u001b[0;34m(filepath_or_buffer, sep, delimiter, header, names, index_col, usecols, squeeze, prefix, mangle_dupe_cols, dtype, engine, converters, true_values, false_values, skipinitialspace, skiprows, skipfooter, nrows, na_values, keep_default_na, na_filter, verbose, skip_blank_lines, parse_dates, infer_datetime_format, keep_date_col, date_parser, dayfirst, cache_dates, iterator, chunksize, compression, thousands, decimal, lineterminator, quotechar, quoting, doublequote, escapechar, comment, encoding, encoding_errors, dialect, error_bad_lines, warn_bad_lines, on_bad_lines, delim_whitespace, low_memory, memory_map, float_precision, storage_options)\u001b[0m\n\u001b[1;32m    948\u001b[0m     \u001b[0mkwds\u001b[0m\u001b[0;34m.\u001b[0m\u001b[0mupdate\u001b[0m\u001b[0;34m(\u001b[0m\u001b[0mkwds_defaults\u001b[0m\u001b[0;34m)\u001b[0m\u001b[0;34m\u001b[0m\u001b[0;34m\u001b[0m\u001b[0m\n\u001b[1;32m    949\u001b[0m \u001b[0;34m\u001b[0m\u001b[0m\n\u001b[0;32m--> 950\u001b[0;31m     \u001b[0;32mreturn\u001b[0m \u001b[0m_read\u001b[0m\u001b[0;34m(\u001b[0m\u001b[0mfilepath_or_buffer\u001b[0m\u001b[0;34m,\u001b[0m \u001b[0mkwds\u001b[0m\u001b[0;34m)\u001b[0m\u001b[0;34m\u001b[0m\u001b[0;34m\u001b[0m\u001b[0m\n\u001b[0m\u001b[1;32m    951\u001b[0m \u001b[0;34m\u001b[0m\u001b[0m\n\u001b[1;32m    952\u001b[0m \u001b[0;34m\u001b[0m\u001b[0m\n",
            "\u001b[0;32m/usr/local/lib/python3.10/dist-packages/pandas/io/parsers/readers.py\u001b[0m in \u001b[0;36m_read\u001b[0;34m(filepath_or_buffer, kwds)\u001b[0m\n\u001b[1;32m    603\u001b[0m \u001b[0;34m\u001b[0m\u001b[0m\n\u001b[1;32m    604\u001b[0m     \u001b[0;31m# Create the parser.\u001b[0m\u001b[0;34m\u001b[0m\u001b[0;34m\u001b[0m\u001b[0m\n\u001b[0;32m--> 605\u001b[0;31m     \u001b[0mparser\u001b[0m \u001b[0;34m=\u001b[0m \u001b[0mTextFileReader\u001b[0m\u001b[0;34m(\u001b[0m\u001b[0mfilepath_or_buffer\u001b[0m\u001b[0;34m,\u001b[0m \u001b[0;34m**\u001b[0m\u001b[0mkwds\u001b[0m\u001b[0;34m)\u001b[0m\u001b[0;34m\u001b[0m\u001b[0;34m\u001b[0m\u001b[0m\n\u001b[0m\u001b[1;32m    606\u001b[0m \u001b[0;34m\u001b[0m\u001b[0m\n\u001b[1;32m    607\u001b[0m     \u001b[0;32mif\u001b[0m \u001b[0mchunksize\u001b[0m \u001b[0;32mor\u001b[0m \u001b[0miterator\u001b[0m\u001b[0;34m:\u001b[0m\u001b[0;34m\u001b[0m\u001b[0;34m\u001b[0m\u001b[0m\n",
            "\u001b[0;32m/usr/local/lib/python3.10/dist-packages/pandas/io/parsers/readers.py\u001b[0m in \u001b[0;36m__init__\u001b[0;34m(self, f, engine, **kwds)\u001b[0m\n\u001b[1;32m   1440\u001b[0m \u001b[0;34m\u001b[0m\u001b[0m\n\u001b[1;32m   1441\u001b[0m         \u001b[0mself\u001b[0m\u001b[0;34m.\u001b[0m\u001b[0mhandles\u001b[0m\u001b[0;34m:\u001b[0m \u001b[0mIOHandles\u001b[0m \u001b[0;34m|\u001b[0m \u001b[0;32mNone\u001b[0m \u001b[0;34m=\u001b[0m \u001b[0;32mNone\u001b[0m\u001b[0;34m\u001b[0m\u001b[0;34m\u001b[0m\u001b[0m\n\u001b[0;32m-> 1442\u001b[0;31m         \u001b[0mself\u001b[0m\u001b[0;34m.\u001b[0m\u001b[0m_engine\u001b[0m \u001b[0;34m=\u001b[0m \u001b[0mself\u001b[0m\u001b[0;34m.\u001b[0m\u001b[0m_make_engine\u001b[0m\u001b[0;34m(\u001b[0m\u001b[0mf\u001b[0m\u001b[0;34m,\u001b[0m \u001b[0mself\u001b[0m\u001b[0;34m.\u001b[0m\u001b[0mengine\u001b[0m\u001b[0;34m)\u001b[0m\u001b[0;34m\u001b[0m\u001b[0;34m\u001b[0m\u001b[0m\n\u001b[0m\u001b[1;32m   1443\u001b[0m \u001b[0;34m\u001b[0m\u001b[0m\n\u001b[1;32m   1444\u001b[0m     \u001b[0;32mdef\u001b[0m \u001b[0mclose\u001b[0m\u001b[0;34m(\u001b[0m\u001b[0mself\u001b[0m\u001b[0;34m)\u001b[0m \u001b[0;34m->\u001b[0m \u001b[0;32mNone\u001b[0m\u001b[0;34m:\u001b[0m\u001b[0;34m\u001b[0m\u001b[0;34m\u001b[0m\u001b[0m\n",
            "\u001b[0;32m/usr/local/lib/python3.10/dist-packages/pandas/io/parsers/readers.py\u001b[0m in \u001b[0;36m_make_engine\u001b[0;34m(self, f, engine)\u001b[0m\n\u001b[1;32m   1733\u001b[0m                 \u001b[0;32mif\u001b[0m \u001b[0;34m\"b\"\u001b[0m \u001b[0;32mnot\u001b[0m \u001b[0;32min\u001b[0m \u001b[0mmode\u001b[0m\u001b[0;34m:\u001b[0m\u001b[0;34m\u001b[0m\u001b[0;34m\u001b[0m\u001b[0m\n\u001b[1;32m   1734\u001b[0m                     \u001b[0mmode\u001b[0m \u001b[0;34m+=\u001b[0m \u001b[0;34m\"b\"\u001b[0m\u001b[0;34m\u001b[0m\u001b[0;34m\u001b[0m\u001b[0m\n\u001b[0;32m-> 1735\u001b[0;31m             self.handles = get_handle(\n\u001b[0m\u001b[1;32m   1736\u001b[0m                 \u001b[0mf\u001b[0m\u001b[0;34m,\u001b[0m\u001b[0;34m\u001b[0m\u001b[0;34m\u001b[0m\u001b[0m\n\u001b[1;32m   1737\u001b[0m                 \u001b[0mmode\u001b[0m\u001b[0;34m,\u001b[0m\u001b[0;34m\u001b[0m\u001b[0;34m\u001b[0m\u001b[0m\n",
            "\u001b[0;32m/usr/local/lib/python3.10/dist-packages/pandas/io/common.py\u001b[0m in \u001b[0;36mget_handle\u001b[0;34m(path_or_buf, mode, encoding, compression, memory_map, is_text, errors, storage_options)\u001b[0m\n\u001b[1;32m    854\u001b[0m         \u001b[0;32mif\u001b[0m \u001b[0mioargs\u001b[0m\u001b[0;34m.\u001b[0m\u001b[0mencoding\u001b[0m \u001b[0;32mand\u001b[0m \u001b[0;34m\"b\"\u001b[0m \u001b[0;32mnot\u001b[0m \u001b[0;32min\u001b[0m \u001b[0mioargs\u001b[0m\u001b[0;34m.\u001b[0m\u001b[0mmode\u001b[0m\u001b[0;34m:\u001b[0m\u001b[0;34m\u001b[0m\u001b[0;34m\u001b[0m\u001b[0m\n\u001b[1;32m    855\u001b[0m             \u001b[0;31m# Encoding\u001b[0m\u001b[0;34m\u001b[0m\u001b[0;34m\u001b[0m\u001b[0m\n\u001b[0;32m--> 856\u001b[0;31m             handle = open(\n\u001b[0m\u001b[1;32m    857\u001b[0m                 \u001b[0mhandle\u001b[0m\u001b[0;34m,\u001b[0m\u001b[0;34m\u001b[0m\u001b[0;34m\u001b[0m\u001b[0m\n\u001b[1;32m    858\u001b[0m                 \u001b[0mioargs\u001b[0m\u001b[0;34m.\u001b[0m\u001b[0mmode\u001b[0m\u001b[0;34m,\u001b[0m\u001b[0;34m\u001b[0m\u001b[0;34m\u001b[0m\u001b[0m\n",
            "\u001b[0;31mFileNotFoundError\u001b[0m: [Errno 2] No such file or directory: '2022.06.13.csv'"
          ]
        }
      ],
      "source": [
        "import numpy as np\n",
        "import pandas as pd\n",
        "# read the data\n",
        "df1 = pd.read_csv('2022.06.12.csv')\n",
        "df2 = pd.read_csv('2022.06.13.csv')\n",
        "df3 = pd.read_csv('2022.06.14.csv')\n",
        "df_dataset = pd.concat([df1, df2, df3])\n",
        "df_dataset.reset_index(drop=True, inplace=True)\n",
        "df_dataset.head()"
      ]
    },
    {
      "cell_type": "markdown",
      "id": "15fb28d9",
      "metadata": {
        "id": "15fb28d9",
        "papermill": {
          "duration": 0.01765,
          "end_time": "2023-09-23T20:35:10.042762",
          "exception": false,
          "start_time": "2023-09-23T20:35:10.025112",
          "status": "completed"
        },
        "tags": []
      },
      "source": [
        "# Reading the dataset"
      ]
    },
    {
      "cell_type": "code",
      "execution_count": null,
      "id": "0f5211c9",
      "metadata": {
        "execution": {
          "iopub.execute_input": "2023-09-23T20:35:10.079973Z",
          "iopub.status.busy": "2023-09-23T20:35:10.078920Z",
          "iopub.status.idle": "2023-09-23T20:35:13.191726Z",
          "shell.execute_reply": "2023-09-23T20:35:13.190757Z"
        },
        "id": "0f5211c9",
        "papermill": {
          "duration": 3.133808,
          "end_time": "2023-09-23T20:35:13.194178",
          "exception": false,
          "start_time": "2023-09-23T20:35:10.060370",
          "status": "completed"
        },
        "tags": []
      },
      "outputs": [],
      "source": [
        "# read the data\n",
        "df1 = pd.read_csv('/kaggle/input/luflow-network-intrusion-detection-data-set/2022/06/2022.06.12/2022.06.12.csv')\n",
        "df2 = pd.read_csv('/kaggle/input/luflow-network-intrusion-detection-data-set/2022/06/2022.06.13/2022.06.13.csv')\n",
        "df3 = pd.read_csv('/kaggle/input/luflow-network-intrusion-detection-data-set/2022/06/2022.06.14/2022.06.14.csv')"
      ]
    },
    {
      "cell_type": "markdown",
      "id": "780a93b5",
      "metadata": {
        "id": "780a93b5",
        "papermill": {
          "duration": 0.016977,
          "end_time": "2023-09-23T20:35:13.228781",
          "exception": false,
          "start_time": "2023-09-23T20:35:13.211804",
          "status": "completed"
        },
        "tags": []
      },
      "source": [
        "# Merging into 1 dataframe"
      ]
    },
    {
      "cell_type": "code",
      "execution_count": null,
      "id": "a0ad52f0",
      "metadata": {
        "execution": {
          "iopub.execute_input": "2023-09-23T20:35:13.266407Z",
          "iopub.status.busy": "2023-09-23T20:35:13.265324Z",
          "iopub.status.idle": "2023-09-23T20:35:13.337023Z",
          "shell.execute_reply": "2023-09-23T20:35:13.335883Z"
        },
        "id": "a0ad52f0",
        "outputId": "82482489-f032-4d82-9eaf-51950ea96c8d",
        "papermill": {
          "duration": 0.094688,
          "end_time": "2023-09-23T20:35:13.340097",
          "exception": false,
          "start_time": "2023-09-23T20:35:13.245409",
          "status": "completed"
        },
        "tags": []
      },
      "outputs": [
        {
          "data": {
            "text/plain": [
              "16"
            ]
          },
          "execution_count": 3,
          "metadata": {},
          "output_type": "execute_result"
        }
      ],
      "source": [
        "df_dataset = pd.concat([df1, df2, df3])\n",
        "df_dataset.reset_index(drop=True, inplace=True)\n",
        "len(df_dataset.columns)"
      ]
    },
    {
      "cell_type": "markdown",
      "id": "8e04efe0",
      "metadata": {
        "id": "8e04efe0",
        "papermill": {
          "duration": 0.017531,
          "end_time": "2023-09-23T20:35:13.375540",
          "exception": false,
          "start_time": "2023-09-23T20:35:13.358009",
          "status": "completed"
        },
        "tags": []
      },
      "source": [
        "# Displaying the data"
      ]
    },
    {
      "cell_type": "code",
      "execution_count": null,
      "id": "9da94b5b",
      "metadata": {
        "execution": {
          "iopub.execute_input": "2023-09-23T20:35:13.412102Z",
          "iopub.status.busy": "2023-09-23T20:35:13.411749Z",
          "iopub.status.idle": "2023-09-23T20:35:13.767349Z",
          "shell.execute_reply": "2023-09-23T20:35:13.765571Z"
        },
        "id": "9da94b5b",
        "outputId": "650dc215-96a1-4bfb-e4e6-30b0ae480371",
        "papermill": {
          "duration": 0.376873,
          "end_time": "2023-09-23T20:35:13.769861",
          "exception": false,
          "start_time": "2023-09-23T20:35:13.392988",
          "status": "completed"
        },
        "tags": []
      },
      "outputs": [
        {
          "name": "stdout",
          "output_type": "stream",
          "text": [
            "<class 'pandas.core.frame.DataFrame'>\n",
            "RangeIndex: 1068376 entries, 0 to 1068375\n",
            "Data columns (total 16 columns):\n",
            " #   Column         Non-Null Count    Dtype  \n",
            "---  ------         --------------    -----  \n",
            " 0   avg_ipt        1068376 non-null  float64\n",
            " 1   bytes_in       1068376 non-null  int64  \n",
            " 2   bytes_out      1068376 non-null  int64  \n",
            " 3   dest_ip        1068376 non-null  int64  \n",
            " 4   dest_port      964168 non-null   float64\n",
            " 5   entropy        1068376 non-null  float64\n",
            " 6   num_pkts_out   1068376 non-null  int64  \n",
            " 7   num_pkts_in    1068376 non-null  int64  \n",
            " 8   proto          1068376 non-null  int64  \n",
            " 9   src_ip         1068376 non-null  int64  \n",
            " 10  src_port       964168 non-null   float64\n",
            " 11  time_end       1068376 non-null  int64  \n",
            " 12  time_start     1068376 non-null  int64  \n",
            " 13  total_entropy  1068376 non-null  float64\n",
            " 14  label          1068376 non-null  object \n",
            " 15  duration       1068376 non-null  float64\n",
            "dtypes: float64(6), int64(9), object(1)\n",
            "memory usage: 130.4+ MB\n"
          ]
        }
      ],
      "source": [
        "df_dataset.info()"
      ]
    },
    {
      "cell_type": "code",
      "execution_count": null,
      "id": "957152fe",
      "metadata": {
        "execution": {
          "iopub.execute_input": "2023-09-23T20:35:13.809684Z",
          "iopub.status.busy": "2023-09-23T20:35:13.808630Z",
          "iopub.status.idle": "2023-09-23T20:35:13.893592Z",
          "shell.execute_reply": "2023-09-23T20:35:13.889610Z"
        },
        "id": "957152fe",
        "papermill": {
          "duration": 0.111596,
          "end_time": "2023-09-23T20:35:13.899873",
          "exception": false,
          "start_time": "2023-09-23T20:35:13.788277",
          "status": "completed"
        },
        "tags": []
      },
      "outputs": [],
      "source": [
        "df_dataset = df_dataset.drop(['num_pkts_out', 'num_pkts_in'], axis=1)"
      ]
    },
    {
      "cell_type": "code",
      "execution_count": null,
      "id": "af7ef485",
      "metadata": {
        "execution": {
          "iopub.execute_input": "2023-09-23T20:35:13.980260Z",
          "iopub.status.busy": "2023-09-23T20:35:13.979892Z",
          "iopub.status.idle": "2023-09-23T20:35:13.986970Z",
          "shell.execute_reply": "2023-09-23T20:35:13.986003Z"
        },
        "id": "af7ef485",
        "outputId": "058f36ae-3584-4dd9-ed47-e843b5996eff",
        "papermill": {
          "duration": 0.054009,
          "end_time": "2023-09-23T20:35:13.990045",
          "exception": false,
          "start_time": "2023-09-23T20:35:13.936036",
          "status": "completed"
        },
        "tags": []
      },
      "outputs": [
        {
          "data": {
            "text/plain": [
              "Index(['avg_ipt', 'bytes_in', 'bytes_out', 'dest_ip', 'dest_port', 'entropy',\n",
              "       'proto', 'src_ip', 'src_port', 'time_end', 'time_start',\n",
              "       'total_entropy', 'label', 'duration'],\n",
              "      dtype='object')"
            ]
          },
          "execution_count": 6,
          "metadata": {},
          "output_type": "execute_result"
        }
      ],
      "source": [
        "df_dataset.columns"
      ]
    },
    {
      "cell_type": "markdown",
      "id": "91d6dae5",
      "metadata": {
        "id": "91d6dae5",
        "papermill": {
          "duration": 0.017288,
          "end_time": "2023-09-23T20:35:14.025460",
          "exception": false,
          "start_time": "2023-09-23T20:35:14.008172",
          "status": "completed"
        },
        "tags": []
      },
      "source": [
        "# Taking care of missing data, Removing duplicates"
      ]
    },
    {
      "cell_type": "code",
      "execution_count": null,
      "id": "6c3110a6",
      "metadata": {
        "execution": {
          "iopub.execute_input": "2023-09-23T20:35:14.062419Z",
          "iopub.status.busy": "2023-09-23T20:35:14.061428Z",
          "iopub.status.idle": "2023-09-23T20:35:14.585967Z",
          "shell.execute_reply": "2023-09-23T20:35:14.584959Z"
        },
        "id": "6c3110a6",
        "papermill": {
          "duration": 0.545677,
          "end_time": "2023-09-23T20:35:14.588590",
          "exception": false,
          "start_time": "2023-09-23T20:35:14.042913",
          "status": "completed"
        },
        "tags": []
      },
      "outputs": [],
      "source": [
        "# replace +ve and -ve infinity with NaN\n",
        "df_dataset.replace([np.inf, -np.inf], np.nan, inplace=True)"
      ]
    },
    {
      "cell_type": "code",
      "execution_count": null,
      "id": "a39ee599",
      "metadata": {
        "execution": {
          "iopub.execute_input": "2023-09-23T20:35:14.626224Z",
          "iopub.status.busy": "2023-09-23T20:35:14.625869Z",
          "iopub.status.idle": "2023-09-23T20:35:15.000987Z",
          "shell.execute_reply": "2023-09-23T20:35:14.999996Z"
        },
        "id": "a39ee599",
        "papermill": {
          "duration": 0.396291,
          "end_time": "2023-09-23T20:35:15.003519",
          "exception": false,
          "start_time": "2023-09-23T20:35:14.607228",
          "status": "completed"
        },
        "tags": []
      },
      "outputs": [],
      "source": [
        "# drop missing values\n",
        "df_dataset.dropna(inplace=True)"
      ]
    },
    {
      "cell_type": "code",
      "execution_count": null,
      "id": "bb8ac00f",
      "metadata": {
        "execution": {
          "iopub.execute_input": "2023-09-23T20:35:15.040215Z",
          "iopub.status.busy": "2023-09-23T20:35:15.039854Z",
          "iopub.status.idle": "2023-09-23T20:35:15.773581Z",
          "shell.execute_reply": "2023-09-23T20:35:15.771387Z"
        },
        "id": "bb8ac00f",
        "outputId": "e14f9533-e35f-440b-8ec6-0b85360213b4",
        "papermill": {
          "duration": 0.756696,
          "end_time": "2023-09-23T20:35:15.777816",
          "exception": false,
          "start_time": "2023-09-23T20:35:15.021120",
          "status": "completed"
        },
        "tags": []
      },
      "outputs": [
        {
          "name": "stdout",
          "output_type": "stream",
          "text": [
            "4447\n"
          ]
        }
      ],
      "source": [
        "print(df_dataset.duplicated().sum())"
      ]
    },
    {
      "cell_type": "code",
      "execution_count": null,
      "id": "d34c6d7e",
      "metadata": {
        "execution": {
          "iopub.execute_input": "2023-09-23T20:35:15.818541Z",
          "iopub.status.busy": "2023-09-23T20:35:15.818117Z",
          "iopub.status.idle": "2023-09-23T20:35:16.610941Z",
          "shell.execute_reply": "2023-09-23T20:35:16.609923Z"
        },
        "id": "d34c6d7e",
        "papermill": {
          "duration": 0.816756,
          "end_time": "2023-09-23T20:35:16.613939",
          "exception": false,
          "start_time": "2023-09-23T20:35:15.797183",
          "status": "completed"
        },
        "tags": []
      },
      "outputs": [],
      "source": [
        "df_dataset.drop_duplicates(inplace = True)"
      ]
    },
    {
      "cell_type": "code",
      "execution_count": null,
      "id": "e5201b74",
      "metadata": {
        "execution": {
          "iopub.execute_input": "2023-09-23T20:35:16.653272Z",
          "iopub.status.busy": "2023-09-23T20:35:16.652888Z",
          "iopub.status.idle": "2023-09-23T20:35:17.407569Z",
          "shell.execute_reply": "2023-09-23T20:35:17.406294Z"
        },
        "id": "e5201b74",
        "outputId": "4bcf0b70-ed19-4514-c33c-f89a6ce49723",
        "papermill": {
          "duration": 0.777648,
          "end_time": "2023-09-23T20:35:17.410421",
          "exception": false,
          "start_time": "2023-09-23T20:35:16.632773",
          "status": "completed"
        },
        "tags": []
      },
      "outputs": [
        {
          "name": "stdout",
          "output_type": "stream",
          "text": [
            "0\n"
          ]
        }
      ],
      "source": [
        "print(df_dataset.duplicated().sum())"
      ]
    },
    {
      "cell_type": "markdown",
      "id": "0ef7d942",
      "metadata": {
        "id": "0ef7d942",
        "papermill": {
          "duration": 0.017587,
          "end_time": "2023-09-23T20:35:17.446943",
          "exception": false,
          "start_time": "2023-09-23T20:35:17.429356",
          "status": "completed"
        },
        "tags": []
      },
      "source": [
        "# Implementing binary classification"
      ]
    },
    {
      "cell_type": "code",
      "execution_count": null,
      "id": "de0d321f",
      "metadata": {
        "execution": {
          "iopub.execute_input": "2023-09-23T20:35:17.483907Z",
          "iopub.status.busy": "2023-09-23T20:35:17.483556Z",
          "iopub.status.idle": "2023-09-23T20:35:17.637012Z",
          "shell.execute_reply": "2023-09-23T20:35:17.636012Z"
        },
        "id": "de0d321f",
        "outputId": "2c51c5a4-7844-4dfb-8c11-26a50ecd722d",
        "papermill": {
          "duration": 0.174255,
          "end_time": "2023-09-23T20:35:17.639133",
          "exception": false,
          "start_time": "2023-09-23T20:35:17.464878",
          "status": "completed"
        },
        "tags": []
      },
      "outputs": [
        {
          "data": {
            "text/plain": [
              "benign       516220\n",
              "outlier      365385\n",
              "malicious     78116\n",
              "Name: label, dtype: int64"
            ]
          },
          "execution_count": 12,
          "metadata": {},
          "output_type": "execute_result"
        }
      ],
      "source": [
        "df_dataset[\"label\"].value_counts()"
      ]
    },
    {
      "cell_type": "code",
      "execution_count": null,
      "id": "ef49d344",
      "metadata": {
        "execution": {
          "iopub.execute_input": "2023-09-23T20:35:17.680338Z",
          "iopub.status.busy": "2023-09-23T20:35:17.678382Z",
          "iopub.status.idle": "2023-09-23T20:35:17.747070Z",
          "shell.execute_reply": "2023-09-23T20:35:17.745941Z"
        },
        "id": "ef49d344",
        "papermill": {
          "duration": 0.091497,
          "end_time": "2023-09-23T20:35:17.749846",
          "exception": false,
          "start_time": "2023-09-23T20:35:17.658349",
          "status": "completed"
        },
        "tags": []
      },
      "outputs": [],
      "source": [
        "old_value = 'outlier'\n",
        "new_value = 0\n",
        "df_dataset['label'] = df_dataset['label'].replace(old_value, new_value)"
      ]
    },
    {
      "cell_type": "code",
      "execution_count": null,
      "id": "1079e9c7",
      "metadata": {
        "execution": {
          "iopub.execute_input": "2023-09-23T20:35:17.790970Z",
          "iopub.status.busy": "2023-09-23T20:35:17.790278Z",
          "iopub.status.idle": "2023-09-23T20:35:17.852927Z",
          "shell.execute_reply": "2023-09-23T20:35:17.851882Z"
        },
        "id": "1079e9c7",
        "papermill": {
          "duration": 0.087183,
          "end_time": "2023-09-23T20:35:17.855579",
          "exception": false,
          "start_time": "2023-09-23T20:35:17.768396",
          "status": "completed"
        },
        "tags": []
      },
      "outputs": [],
      "source": [
        "old_value = 'malicious'\n",
        "new_value = 1\n",
        "df_dataset['label'] = df_dataset['label'].replace(old_value, new_value)"
      ]
    },
    {
      "cell_type": "code",
      "execution_count": null,
      "id": "930a5569",
      "metadata": {
        "execution": {
          "iopub.execute_input": "2023-09-23T20:35:17.894547Z",
          "iopub.status.busy": "2023-09-23T20:35:17.893424Z",
          "iopub.status.idle": "2023-09-23T20:35:18.373678Z",
          "shell.execute_reply": "2023-09-23T20:35:18.372532Z"
        },
        "id": "930a5569",
        "papermill": {
          "duration": 0.502225,
          "end_time": "2023-09-23T20:35:18.376438",
          "exception": false,
          "start_time": "2023-09-23T20:35:17.874213",
          "status": "completed"
        },
        "tags": []
      },
      "outputs": [],
      "source": [
        "old_value = 'benign'\n",
        "new_value = 2\n",
        "df_dataset['label'] = df_dataset['label'].replace(old_value, new_value)"
      ]
    },
    {
      "cell_type": "code",
      "execution_count": null,
      "id": "da3946f2",
      "metadata": {
        "execution": {
          "iopub.execute_input": "2023-09-23T20:35:18.414627Z",
          "iopub.status.busy": "2023-09-23T20:35:18.414250Z",
          "iopub.status.idle": "2023-09-23T20:35:18.430443Z",
          "shell.execute_reply": "2023-09-23T20:35:18.429306Z"
        },
        "id": "da3946f2",
        "outputId": "b5f9eff1-6b3e-4198-83e4-5ef3bf44c2e4",
        "papermill": {
          "duration": 0.037681,
          "end_time": "2023-09-23T20:35:18.432802",
          "exception": false,
          "start_time": "2023-09-23T20:35:18.395121",
          "status": "completed"
        },
        "tags": []
      },
      "outputs": [
        {
          "data": {
            "text/plain": [
              "2    516220\n",
              "0    365385\n",
              "1     78116\n",
              "Name: label, dtype: int64"
            ]
          },
          "execution_count": 16,
          "metadata": {},
          "output_type": "execute_result"
        }
      ],
      "source": [
        "df_dataset[\"label\"].value_counts()"
      ]
    },
    {
      "cell_type": "markdown",
      "id": "c2e868fc",
      "metadata": {
        "id": "c2e868fc",
        "papermill": {
          "duration": 0.017716,
          "end_time": "2023-09-23T20:35:18.468023",
          "exception": false,
          "start_time": "2023-09-23T20:35:18.450307",
          "status": "completed"
        },
        "tags": []
      },
      "source": [
        "# Balancing the data (Undersampling)"
      ]
    },
    {
      "cell_type": "code",
      "execution_count": null,
      "id": "f0d16c40",
      "metadata": {
        "execution": {
          "iopub.execute_input": "2023-09-23T20:35:18.506178Z",
          "iopub.status.busy": "2023-09-23T20:35:18.505821Z",
          "iopub.status.idle": "2023-09-23T20:35:20.667461Z",
          "shell.execute_reply": "2023-09-23T20:35:20.666371Z"
        },
        "id": "f0d16c40",
        "outputId": "a442d401-342a-4f6c-e904-64e189cbf6ff",
        "papermill": {
          "duration": 2.183733,
          "end_time": "2023-09-23T20:35:20.669954",
          "exception": false,
          "start_time": "2023-09-23T20:35:18.486221",
          "status": "completed"
        },
        "tags": []
      },
      "outputs": [
        {
          "name": "stderr",
          "output_type": "stream",
          "text": [
            "/opt/conda/lib/python3.10/site-packages/scipy/__init__.py:146: UserWarning: A NumPy version >=1.16.5 and <1.23.0 is required for this version of SciPy (detected version 1.23.5\n",
            "  warnings.warn(f\"A NumPy version >={np_minversion} and <{np_maxversion}\"\n"
          ]
        },
        {
          "data": {
            "text/html": [
              "        <script type=\"text/javascript\">\n",
              "        window.PlotlyConfig = {MathJaxConfig: 'local'};\n",
              "        if (window.MathJax && window.MathJax.Hub && window.MathJax.Hub.Config) {window.MathJax.Hub.Config({SVG: {font: \"STIX-Web\"}});}\n",
              "        if (typeof require !== 'undefined') {\n",
              "        require.undef(\"plotly\");\n",
              "        requirejs.config({\n",
              "            paths: {\n",
              "                'plotly': ['https://cdn.plot.ly/plotly-2.20.0.min']\n",
              "            }\n",
              "        });\n",
              "        require(['plotly'], function(Plotly) {\n",
              "            window._Plotly = Plotly;\n",
              "        });\n",
              "        }\n",
              "        </script>\n",
              "        "
            ]
          },
          "metadata": {},
          "output_type": "display_data"
        }
      ],
      "source": [
        "import pandas as pd\n",
        "import numpy as np\n",
        "import matplotlib.pyplot as plt\n",
        "import joblib\n",
        "import sklearn\n",
        "from sklearn.preprocessing import MinMaxScaler\n",
        "from sklearn.ensemble import RandomForestClassifier\n",
        "from sklearn.model_selection import GridSearchCV, train_test_split\n",
        "from sklearn.metrics import accuracy_score, classification_report, confusion_matrix\n",
        "from sklearn.utils import class_weight\n",
        "\n",
        "# RANDOM_STATE_SEED = 12\n",
        "\n",
        "from plotly.offline import init_notebook_mode, iplot, plot\n",
        "import plotly as py\n",
        "import plotly.express as px\n",
        "init_notebook_mode(connected=True)\n",
        "import plotly.graph_objs as go\n",
        "\n",
        "# df = df_dataset\n",
        "# fig = go.Figure(data=[\n",
        "#     go.Bar(name='Benign',\n",
        "#            y=df[\"label\"].value_counts().values[[2]],\n",
        "#            x=['Benign'],\n",
        "#            text = df[\"label\"].value_counts()[[2]],\n",
        "#            orientation='v',\n",
        "#            textposition='outside',),\n",
        "#     go.Bar(name='Malicious',\n",
        "#            y=df[\"label\"].value_counts().values[[1]],\n",
        "#            x=['Malicious'],\n",
        "#            text = df[\"label\"].value_counts()[[1]],\n",
        "#            orientation='v',\n",
        "#            textposition='outside',),\n",
        "#     go.Bar(name='outlier',\n",
        "#            y=df[\"label\"].value_counts().values[[0]],\n",
        "#            x=['outlier'],\n",
        "#            text = df[\"label\"].value_counts()[[0]],\n",
        "#            orientation='v',\n",
        "#            textposition='outside',)\n",
        "# ])\n",
        "# # Change the bar mode\n",
        "# fig.update_layout(\n",
        "#                   width=800,\n",
        "#                   height=600,\n",
        "#                   title=f'Class Distribution',\n",
        "#                   yaxis_title='Number of attacks',\n",
        "#                   xaxis_title='Attack Name',)\n",
        "# iplot(fig)"
      ]
    },
    {
      "cell_type": "code",
      "execution_count": null,
      "id": "c8653fa1",
      "metadata": {
        "execution": {
          "iopub.execute_input": "2023-09-23T20:35:20.708907Z",
          "iopub.status.busy": "2023-09-23T20:35:20.708537Z",
          "iopub.status.idle": "2023-09-23T20:35:20.713314Z",
          "shell.execute_reply": "2023-09-23T20:35:20.712245Z"
        },
        "id": "c8653fa1",
        "papermill": {
          "duration": 0.027292,
          "end_time": "2023-09-23T20:35:20.716036",
          "exception": false,
          "start_time": "2023-09-23T20:35:20.688744",
          "status": "completed"
        },
        "tags": []
      },
      "outputs": [],
      "source": [
        "# df1 = df[df[\"label\"] == 0][:320000]\n",
        "# df2 = df[df[\"label\"] == 1][:320000]\n",
        "# df3=  df[df['label'] == 2][:320000]\n",
        "# df_equal = pd.concat([df1,df2], axis =0)\n",
        "# print(df_equal['label'].value_counts())\n",
        "# # df_equal = pd.concat([df_equal,df3], axis =0)\n",
        "# # print(len(df2))"
      ]
    },
    {
      "cell_type": "code",
      "execution_count": null,
      "id": "71e95f8e",
      "metadata": {
        "execution": {
          "iopub.execute_input": "2023-09-23T20:35:20.756050Z",
          "iopub.status.busy": "2023-09-23T20:35:20.755674Z",
          "iopub.status.idle": "2023-09-23T20:35:20.760358Z",
          "shell.execute_reply": "2023-09-23T20:35:20.759254Z"
        },
        "id": "71e95f8e",
        "papermill": {
          "duration": 0.027666,
          "end_time": "2023-09-23T20:35:20.762896",
          "exception": false,
          "start_time": "2023-09-23T20:35:20.735230",
          "status": "completed"
        },
        "tags": []
      },
      "outputs": [],
      "source": [
        "# df_equal[\"label\"].value_counts()"
      ]
    },
    {
      "cell_type": "code",
      "execution_count": null,
      "id": "96265866",
      "metadata": {
        "execution": {
          "iopub.execute_input": "2023-09-23T20:35:20.805999Z",
          "iopub.status.busy": "2023-09-23T20:35:20.804114Z",
          "iopub.status.idle": "2023-09-23T20:35:20.811753Z",
          "shell.execute_reply": "2023-09-23T20:35:20.810820Z"
        },
        "id": "96265866",
        "papermill": {
          "duration": 0.031942,
          "end_time": "2023-09-23T20:35:20.814284",
          "exception": false,
          "start_time": "2023-09-23T20:35:20.782342",
          "status": "completed"
        },
        "tags": []
      },
      "outputs": [],
      "source": [
        "from sklearn.model_selection import RandomizedSearchCV\n",
        "from scipy.stats import randint\n",
        "# fig = go.Figure(data=[\n",
        "#     go.Bar(name='Benign',\n",
        "#            y=df_equal[\"label\"].value_counts().values[[2]],\n",
        "#            x=['Benign'],\n",
        "#            text = df_equal[\"label\"].value_counts()[[2]],\n",
        "#            orientation='v',\n",
        "#            textposition='outside',),\n",
        "#     go.Bar(name='Malicious',\n",
        "#            y=df_equal[\"label\"].value_counts().values[[1]],\n",
        "#            x=['Malicious'],\n",
        "#            text = df_equal[\"label\"].value_counts()[[1]],\n",
        "#            orientation='v',\n",
        "#            textposition='outside',),\n",
        "#     go.Bar(name='outlier',\n",
        "#            y=df_equal[\"label\"].value_counts().values[[2]],\n",
        "#            x=['outlier'],\n",
        "#            text = df_equal[\"label\"].value_counts()[[2]],\n",
        "#            orientation='v',\n",
        "#            textposition='outside',)\n",
        "# ])\n",
        "# # Change the bar mode\n",
        "# fig.update_layout(\n",
        "#                   width=800,\n",
        "#                   height=600,\n",
        "#                   title=f'Class Distribution',\n",
        "#                   yaxis_title='Number of attacks',\n",
        "#                   xaxis_title='Attack Name',)\n",
        "# iplot(fig)"
      ]
    },
    {
      "cell_type": "markdown",
      "id": "e3b681e7",
      "metadata": {
        "id": "e3b681e7",
        "papermill": {
          "duration": 0.018771,
          "end_time": "2023-09-23T20:35:20.851599",
          "exception": false,
          "start_time": "2023-09-23T20:35:20.832828",
          "status": "completed"
        },
        "tags": []
      },
      "source": [
        "# Creating train/test split"
      ]
    },
    {
      "cell_type": "code",
      "execution_count": null,
      "id": "4f5458cb",
      "metadata": {
        "execution": {
          "iopub.execute_input": "2023-09-23T20:35:20.911911Z",
          "iopub.status.busy": "2023-09-23T20:35:20.911353Z",
          "iopub.status.idle": "2023-09-23T20:35:21.220592Z",
          "shell.execute_reply": "2023-09-23T20:35:21.219530Z"
        },
        "id": "4f5458cb",
        "papermill": {
          "duration": 0.342157,
          "end_time": "2023-09-23T20:35:21.223169",
          "exception": false,
          "start_time": "2023-09-23T20:35:20.881012",
          "status": "completed"
        },
        "tags": []
      },
      "outputs": [],
      "source": [
        "df=df_dataset\n",
        "train, test = train_test_split(df, test_size=0.2)"
      ]
    },
    {
      "cell_type": "code",
      "execution_count": null,
      "id": "c991b514",
      "metadata": {
        "execution": {
          "iopub.execute_input": "2023-09-23T20:35:21.279106Z",
          "iopub.status.busy": "2023-09-23T20:35:21.278179Z",
          "iopub.status.idle": "2023-09-23T20:35:21.286997Z",
          "shell.execute_reply": "2023-09-23T20:35:21.284504Z"
        },
        "id": "c991b514",
        "outputId": "05f1f1e6-d314-4020-bf92-49ce01143d43",
        "papermill": {
          "duration": 0.042158,
          "end_time": "2023-09-23T20:35:21.291938",
          "exception": false,
          "start_time": "2023-09-23T20:35:21.249780",
          "status": "completed"
        },
        "tags": []
      },
      "outputs": [
        {
          "data": {
            "text/plain": [
              "767776"
            ]
          },
          "execution_count": 22,
          "metadata": {},
          "output_type": "execute_result"
        }
      ],
      "source": [
        "# Number of rows in train dataset\n",
        "len(train)"
      ]
    },
    {
      "cell_type": "code",
      "execution_count": null,
      "id": "548c762c",
      "metadata": {
        "execution": {
          "iopub.execute_input": "2023-09-23T20:35:21.346783Z",
          "iopub.status.busy": "2023-09-23T20:35:21.346289Z",
          "iopub.status.idle": "2023-09-23T20:35:21.353051Z",
          "shell.execute_reply": "2023-09-23T20:35:21.351870Z"
        },
        "id": "548c762c",
        "outputId": "fb63b362-0c9f-4549-89fb-bbd49d5eee85",
        "papermill": {
          "duration": 0.040056,
          "end_time": "2023-09-23T20:35:21.359533",
          "exception": false,
          "start_time": "2023-09-23T20:35:21.319477",
          "status": "completed"
        },
        "tags": []
      },
      "outputs": [
        {
          "data": {
            "text/plain": [
              "191945"
            ]
          },
          "execution_count": 23,
          "metadata": {},
          "output_type": "execute_result"
        }
      ],
      "source": [
        "# rows in test dataset\n",
        "len(test)"
      ]
    },
    {
      "cell_type": "code",
      "execution_count": null,
      "id": "fdf1610f",
      "metadata": {
        "execution": {
          "iopub.execute_input": "2023-09-23T20:35:21.418875Z",
          "iopub.status.busy": "2023-09-23T20:35:21.418396Z",
          "iopub.status.idle": "2023-09-23T20:35:21.443245Z",
          "shell.execute_reply": "2023-09-23T20:35:21.442248Z"
        },
        "id": "fdf1610f",
        "outputId": "69fbbfe3-e8bf-447b-efab-fbfc826aec05",
        "papermill": {
          "duration": 0.057921,
          "end_time": "2023-09-23T20:35:21.446166",
          "exception": false,
          "start_time": "2023-09-23T20:35:21.388245",
          "status": "completed"
        },
        "tags": []
      },
      "outputs": [
        {
          "name": "stdout",
          "output_type": "stream",
          "text": [
            "<class 'pandas.core.frame.DataFrame'>\n",
            "Int64Index: 191945 entries, 256777 to 632695\n",
            "Data columns (total 14 columns):\n",
            " #   Column         Non-Null Count   Dtype  \n",
            "---  ------         --------------   -----  \n",
            " 0   avg_ipt        191945 non-null  float64\n",
            " 1   bytes_in       191945 non-null  int64  \n",
            " 2   bytes_out      191945 non-null  int64  \n",
            " 3   dest_ip        191945 non-null  int64  \n",
            " 4   dest_port      191945 non-null  float64\n",
            " 5   entropy        191945 non-null  float64\n",
            " 6   proto          191945 non-null  int64  \n",
            " 7   src_ip         191945 non-null  int64  \n",
            " 8   src_port       191945 non-null  float64\n",
            " 9   time_end       191945 non-null  int64  \n",
            " 10  time_start     191945 non-null  int64  \n",
            " 11  total_entropy  191945 non-null  float64\n",
            " 12  label          191945 non-null  int64  \n",
            " 13  duration       191945 non-null  float64\n",
            "dtypes: float64(6), int64(8)\n",
            "memory usage: 22.0 MB\n"
          ]
        }
      ],
      "source": [
        "test.info()"
      ]
    },
    {
      "cell_type": "code",
      "execution_count": null,
      "id": "d57c4d53",
      "metadata": {
        "execution": {
          "iopub.execute_input": "2023-09-23T20:35:21.504906Z",
          "iopub.status.busy": "2023-09-23T20:35:21.504398Z",
          "iopub.status.idle": "2023-09-23T20:35:21.539291Z",
          "shell.execute_reply": "2023-09-23T20:35:21.538059Z"
        },
        "id": "d57c4d53",
        "outputId": "1b8f0ed4-4cca-4f23-b259-ad3ec4270547",
        "papermill": {
          "duration": 0.069493,
          "end_time": "2023-09-23T20:35:21.543823",
          "exception": false,
          "start_time": "2023-09-23T20:35:21.474330",
          "status": "completed"
        },
        "tags": []
      },
      "outputs": [
        {
          "name": "stdout",
          "output_type": "stream",
          "text": [
            "<class 'pandas.core.frame.DataFrame'>\n",
            "Int64Index: 767776 entries, 947627 to 993580\n",
            "Data columns (total 14 columns):\n",
            " #   Column         Non-Null Count   Dtype  \n",
            "---  ------         --------------   -----  \n",
            " 0   avg_ipt        767776 non-null  float64\n",
            " 1   bytes_in       767776 non-null  int64  \n",
            " 2   bytes_out      767776 non-null  int64  \n",
            " 3   dest_ip        767776 non-null  int64  \n",
            " 4   dest_port      767776 non-null  float64\n",
            " 5   entropy        767776 non-null  float64\n",
            " 6   proto          767776 non-null  int64  \n",
            " 7   src_ip         767776 non-null  int64  \n",
            " 8   src_port       767776 non-null  float64\n",
            " 9   time_end       767776 non-null  int64  \n",
            " 10  time_start     767776 non-null  int64  \n",
            " 11  total_entropy  767776 non-null  float64\n",
            " 12  label          767776 non-null  int64  \n",
            " 13  duration       767776 non-null  float64\n",
            "dtypes: float64(6), int64(8)\n",
            "memory usage: 87.9 MB\n"
          ]
        }
      ],
      "source": [
        "train.info()"
      ]
    },
    {
      "cell_type": "markdown",
      "id": "025ef064",
      "metadata": {
        "id": "025ef064",
        "papermill": {
          "duration": 0.029592,
          "end_time": "2023-09-23T20:35:21.609315",
          "exception": false,
          "start_time": "2023-09-23T20:35:21.579723",
          "status": "completed"
        },
        "tags": []
      },
      "source": [
        "# Feature scaling"
      ]
    },
    {
      "cell_type": "code",
      "execution_count": null,
      "id": "ed57c940",
      "metadata": {
        "execution": {
          "iopub.execute_input": "2023-09-23T20:35:21.665862Z",
          "iopub.status.busy": "2023-09-23T20:35:21.665463Z",
          "iopub.status.idle": "2023-09-23T20:35:21.724867Z",
          "shell.execute_reply": "2023-09-23T20:35:21.723772Z"
        },
        "id": "ed57c940",
        "papermill": {
          "duration": 0.091674,
          "end_time": "2023-09-23T20:35:21.728326",
          "exception": false,
          "start_time": "2023-09-23T20:35:21.636652",
          "status": "completed"
        },
        "tags": []
      },
      "outputs": [],
      "source": [
        "min_max_scaler = MinMaxScaler().fit(train[['avg_ipt', 'bytes_in', 'bytes_out', 'dest_port', 'entropy','src_port','total_entropy', 'duration']])"
      ]
    },
    {
      "cell_type": "code",
      "execution_count": null,
      "id": "3aa6cb59",
      "metadata": {
        "execution": {
          "iopub.execute_input": "2023-09-23T20:35:21.789947Z",
          "iopub.status.busy": "2023-09-23T20:35:21.789542Z",
          "iopub.status.idle": "2023-09-23T20:35:21.794296Z",
          "shell.execute_reply": "2023-09-23T20:35:21.793483Z"
        },
        "id": "3aa6cb59",
        "papermill": {
          "duration": 0.039528,
          "end_time": "2023-09-23T20:35:21.798531",
          "exception": false,
          "start_time": "2023-09-23T20:35:21.759003",
          "status": "completed"
        },
        "tags": []
      },
      "outputs": [],
      "source": [
        "numerical_columns = ['avg_ipt', 'bytes_in', 'bytes_out', 'dest_port', 'entropy', 'src_port','total_entropy', 'duration']"
      ]
    },
    {
      "cell_type": "code",
      "execution_count": null,
      "id": "fb381dba",
      "metadata": {
        "execution": {
          "iopub.execute_input": "2023-09-23T20:35:21.860250Z",
          "iopub.status.busy": "2023-09-23T20:35:21.859815Z",
          "iopub.status.idle": "2023-09-23T20:35:22.004825Z",
          "shell.execute_reply": "2023-09-23T20:35:22.003618Z"
        },
        "id": "fb381dba",
        "papermill": {
          "duration": 0.177269,
          "end_time": "2023-09-23T20:35:22.008474",
          "exception": false,
          "start_time": "2023-09-23T20:35:21.831205",
          "status": "completed"
        },
        "tags": []
      },
      "outputs": [],
      "source": [
        "train[numerical_columns] = min_max_scaler.transform(train[numerical_columns])"
      ]
    },
    {
      "cell_type": "code",
      "execution_count": null,
      "id": "92afb15f",
      "metadata": {
        "execution": {
          "iopub.execute_input": "2023-09-23T20:35:22.073885Z",
          "iopub.status.busy": "2023-09-23T20:35:22.073420Z",
          "iopub.status.idle": "2023-09-23T20:35:22.079472Z",
          "shell.execute_reply": "2023-09-23T20:35:22.078483Z"
        },
        "id": "92afb15f",
        "outputId": "3eaa6997-4f69-4a58-f1a5-bc966764d559",
        "papermill": {
          "duration": 0.046334,
          "end_time": "2023-09-23T20:35:22.087007",
          "exception": false,
          "start_time": "2023-09-23T20:35:22.040673",
          "status": "completed"
        },
        "tags": []
      },
      "outputs": [
        {
          "name": "stdout",
          "output_type": "stream",
          "text": [
            "767776\n"
          ]
        }
      ],
      "source": [
        "print(len(train))"
      ]
    },
    {
      "cell_type": "code",
      "execution_count": null,
      "id": "196e44c4",
      "metadata": {
        "execution": {
          "iopub.execute_input": "2023-09-23T20:35:22.151341Z",
          "iopub.status.busy": "2023-09-23T20:35:22.150884Z",
          "iopub.status.idle": "2023-09-23T20:35:22.187842Z",
          "shell.execute_reply": "2023-09-23T20:35:22.186796Z"
        },
        "id": "196e44c4",
        "papermill": {
          "duration": 0.072399,
          "end_time": "2023-09-23T20:35:22.190967",
          "exception": false,
          "start_time": "2023-09-23T20:35:22.118568",
          "status": "completed"
        },
        "tags": []
      },
      "outputs": [],
      "source": [
        "test[numerical_columns] = min_max_scaler.transform(test[numerical_columns])"
      ]
    },
    {
      "cell_type": "markdown",
      "id": "cadb6669",
      "metadata": {
        "id": "cadb6669",
        "papermill": {
          "duration": 0.027746,
          "end_time": "2023-09-23T20:35:22.245945",
          "exception": false,
          "start_time": "2023-09-23T20:35:22.218199",
          "status": "completed"
        },
        "tags": []
      },
      "source": [
        "# Counting number of records in each split"
      ]
    },
    {
      "cell_type": "code",
      "execution_count": null,
      "id": "2469b664",
      "metadata": {
        "execution": {
          "iopub.execute_input": "2023-09-23T20:35:22.302214Z",
          "iopub.status.busy": "2023-09-23T20:35:22.301252Z",
          "iopub.status.idle": "2023-09-23T20:35:22.390200Z",
          "shell.execute_reply": "2023-09-23T20:35:22.389244Z"
        },
        "id": "2469b664",
        "outputId": "0489b998-91d3-4795-da31-31de3a5826b2",
        "papermill": {
          "duration": 0.11969,
          "end_time": "2023-09-23T20:35:22.393058",
          "exception": false,
          "start_time": "2023-09-23T20:35:22.273368",
          "status": "completed"
        },
        "tags": []
      },
      "outputs": [
        {
          "name": "stdout",
          "output_type": "stream",
          "text": [
            "Full dataset:\n",
            "\n",
            "Benign: 516220\n",
            "Malicious: 78116\n",
            "outlier: 365385\n",
            "---------------\n",
            "Training set:\n",
            "\n",
            "Benign: 413040\n",
            "Malicious: 62351\n",
            "outlier: 292385\n",
            "---------------\n",
            "Test set:\n",
            "\n",
            "Benign: 103180\n",
            "Malicious: 15765\n",
            "outlier: 73000\n"
          ]
        }
      ],
      "source": [
        "print(\"Full dataset:\\n\")\n",
        "print(\"Benign: \" + str(df[\"label\"].value_counts()[[2]].sum()))\n",
        "print(\"Malicious: \" + str(df[\"label\"].value_counts()[[1]].sum()))\n",
        "print(\"outlier: \" + str(df[\"label\"].value_counts()[[0]].sum()))\n",
        "print(\"---------------\")\n",
        "\n",
        "print(\"Training set:\\n\")\n",
        "print(\"Benign: \" + str(train[\"label\"].value_counts()[[2]].sum()))\n",
        "print(\"Malicious: \" + str(train[\"label\"].value_counts()[[1]].sum()))\n",
        "print(\"outlier: \" + str(train[\"label\"].value_counts()[[0]].sum()))\n",
        "print(\"---------------\")\n",
        "\n",
        "print(\"Test set:\\n\")\n",
        "print(\"Benign: \" + str(test[\"label\"].value_counts()[[2]].sum()))\n",
        "print(\"Malicious: \" + str(test[\"label\"].value_counts()[[1]].sum()))\n",
        "print(\"outlier: \" + str(test[\"label\"].value_counts()[[0]].sum()))"
      ]
    },
    {
      "cell_type": "markdown",
      "id": "64d03b45",
      "metadata": {
        "id": "64d03b45",
        "papermill": {
          "duration": 0.027381,
          "end_time": "2023-09-23T20:35:22.449147",
          "exception": false,
          "start_time": "2023-09-23T20:35:22.421766",
          "status": "completed"
        },
        "tags": []
      },
      "source": [
        "# Creating X, y variables"
      ]
    },
    {
      "cell_type": "code",
      "execution_count": null,
      "id": "1359ffcd",
      "metadata": {
        "execution": {
          "iopub.execute_input": "2023-09-23T20:35:22.506881Z",
          "iopub.status.busy": "2023-09-23T20:35:22.506411Z",
          "iopub.status.idle": "2023-09-23T20:35:22.596079Z",
          "shell.execute_reply": "2023-09-23T20:35:22.595141Z"
        },
        "id": "1359ffcd",
        "papermill": {
          "duration": 0.121577,
          "end_time": "2023-09-23T20:35:22.598761",
          "exception": false,
          "start_time": "2023-09-23T20:35:22.477184",
          "status": "completed"
        },
        "tags": []
      },
      "outputs": [],
      "source": [
        "y_train = np.array(train.pop('label'))# pop removes \"Label\" from the dataframe\n",
        "X_train = train.values"
      ]
    },
    {
      "cell_type": "code",
      "execution_count": null,
      "id": "ffdebdc6",
      "metadata": {
        "execution": {
          "iopub.execute_input": "2023-09-23T20:35:22.639894Z",
          "iopub.status.busy": "2023-09-23T20:35:22.638974Z",
          "iopub.status.idle": "2023-09-23T20:35:22.658141Z",
          "shell.execute_reply": "2023-09-23T20:35:22.657011Z"
        },
        "id": "ffdebdc6",
        "papermill": {
          "duration": 0.04302,
          "end_time": "2023-09-23T20:35:22.660981",
          "exception": false,
          "start_time": "2023-09-23T20:35:22.617961",
          "status": "completed"
        },
        "tags": []
      },
      "outputs": [],
      "source": [
        "y_test = np.array(test.pop(\"label\")) # pop removes \"Label\" from the dataframe\n",
        "X_test = test.values"
      ]
    },
    {
      "cell_type": "code",
      "execution_count": null,
      "id": "654f72f6",
      "metadata": {
        "execution": {
          "iopub.execute_input": "2023-09-23T20:35:22.702084Z",
          "iopub.status.busy": "2023-09-23T20:35:22.701736Z",
          "iopub.status.idle": "2023-09-23T20:35:22.716191Z",
          "shell.execute_reply": "2023-09-23T20:35:22.714925Z"
        },
        "id": "654f72f6",
        "outputId": "f45a90fd-3e65-427c-fc25-d40628cdf5f8",
        "papermill": {
          "duration": 0.036914,
          "end_time": "2023-09-23T20:35:22.718843",
          "exception": false,
          "start_time": "2023-09-23T20:35:22.681929",
          "status": "completed"
        },
        "tags": []
      },
      "outputs": [
        {
          "data": {
            "text/plain": [
              "array([0, 2, 1])"
            ]
          },
          "execution_count": 34,
          "metadata": {},
          "output_type": "execute_result"
        }
      ],
      "source": [
        "# Checking unique values in the label column\n",
        "df['label'].unique()"
      ]
    },
    {
      "cell_type": "markdown",
      "id": "a54e004d",
      "metadata": {
        "id": "a54e004d",
        "papermill": {
          "duration": 0.019822,
          "end_time": "2023-09-23T20:35:22.761867",
          "exception": false,
          "start_time": "2023-09-23T20:35:22.742045",
          "status": "completed"
        },
        "tags": []
      },
      "source": [
        "# Neural Network"
      ]
    },
    {
      "cell_type": "code",
      "execution_count": null,
      "id": "dd2d7e4a",
      "metadata": {
        "execution": {
          "iopub.execute_input": "2023-09-23T20:35:22.801469Z",
          "iopub.status.busy": "2023-09-23T20:35:22.801087Z",
          "iopub.status.idle": "2023-09-23T20:35:29.802549Z",
          "shell.execute_reply": "2023-09-23T20:35:29.801480Z"
        },
        "id": "dd2d7e4a",
        "papermill": {
          "duration": 7.024501,
          "end_time": "2023-09-23T20:35:29.805332",
          "exception": false,
          "start_time": "2023-09-23T20:35:22.780831",
          "status": "completed"
        },
        "tags": []
      },
      "outputs": [],
      "source": [
        "import tensorflow as tf"
      ]
    },
    {
      "cell_type": "code",
      "execution_count": null,
      "id": "bc957c9e",
      "metadata": {
        "execution": {
          "iopub.execute_input": "2023-09-23T20:35:29.850305Z",
          "iopub.status.busy": "2023-09-23T20:35:29.849492Z",
          "iopub.status.idle": "2023-09-23T20:35:29.858200Z",
          "shell.execute_reply": "2023-09-23T20:35:29.857121Z"
        },
        "id": "bc957c9e",
        "papermill": {
          "duration": 0.034654,
          "end_time": "2023-09-23T20:35:29.860615",
          "exception": false,
          "start_time": "2023-09-23T20:35:29.825961",
          "status": "completed"
        },
        "tags": []
      },
      "outputs": [],
      "source": [
        "from tensorflow.python.keras import Sequential\n",
        "from tensorflow.python.keras.layers import Dense,LSTM,Conv1D,MaxPool1D,Dropout,Flatten,Reshape\n",
        "from tensorflow.python.keras.losses import SparseCategoricalCrossentropy\n",
        "from tensorflow.python.keras.optimizers import Adam"
      ]
    },
    {
      "cell_type": "code",
      "execution_count": null,
      "id": "29aeacce",
      "metadata": {
        "execution": {
          "iopub.execute_input": "2023-09-23T20:35:29.902752Z",
          "iopub.status.busy": "2023-09-23T20:35:29.901605Z",
          "iopub.status.idle": "2023-09-23T20:35:33.248923Z",
          "shell.execute_reply": "2023-09-23T20:35:33.247788Z"
        },
        "id": "29aeacce",
        "papermill": {
          "duration": 3.371408,
          "end_time": "2023-09-23T20:35:33.251736",
          "exception": false,
          "start_time": "2023-09-23T20:35:29.880328",
          "status": "completed"
        },
        "tags": []
      },
      "outputs": [],
      "source": [
        "model = Sequential() # initializing model\n",
        "#lstm\n",
        "model.add(Conv1D(512,1, padding=\"same\",input_shape = (X_train.shape[1], 1), activation='relu'))\n",
        "model.add(MaxPool1D(pool_size=(2)))\n",
        "model.add(LSTM(units=16,return_sequences=False,dropout=0.2))\n",
        "model.add(Dense(units=3,activation='softmax'))"
      ]
    },
    {
      "cell_type": "code",
      "execution_count": null,
      "id": "2c57ba99",
      "metadata": {
        "execution": {
          "iopub.execute_input": "2023-09-23T20:35:33.291399Z",
          "iopub.status.busy": "2023-09-23T20:35:33.291008Z",
          "iopub.status.idle": "2023-09-23T20:35:33.329294Z",
          "shell.execute_reply": "2023-09-23T20:35:33.328510Z"
        },
        "id": "2c57ba99",
        "outputId": "43281dd3-170a-4243-d68a-2f43d8bcab8b",
        "papermill": {
          "duration": 0.070519,
          "end_time": "2023-09-23T20:35:33.341394",
          "exception": false,
          "start_time": "2023-09-23T20:35:33.270875",
          "status": "completed"
        },
        "tags": []
      },
      "outputs": [
        {
          "name": "stdout",
          "output_type": "stream",
          "text": [
            "Model: \"sequential\"\n",
            "_________________________________________________________________\n",
            " Layer (type)                Output Shape              Param #   \n",
            "=================================================================\n",
            " conv1d (Conv1D)             (None, 13, 512)           1024      \n",
            "                                                                 \n",
            " max_pooling1d (MaxPooling1D  (None, 6, 512)           0         \n",
            " )                                                               \n",
            "                                                                 \n",
            " lstm (LSTM)                 (None, 16)                33856     \n",
            "                                                                 \n",
            " dense (Dense)               (None, 3)                 51        \n",
            "                                                                 \n",
            "=================================================================\n",
            "Total params: 34,931\n",
            "Trainable params: 34,931\n",
            "Non-trainable params: 0\n",
            "_________________________________________________________________\n"
          ]
        }
      ],
      "source": [
        "# defining loss function, optimizer, metrics and then compiling model\n",
        "model.compile(loss=SparseCategoricalCrossentropy(), optimizer=tf.keras.optimizers.Adam(learning_rate=0.001), metrics=['accuracy'])\n",
        "model.summary()"
      ]
    },
    {
      "cell_type": "code",
      "execution_count": null,
      "id": "17f6b77f",
      "metadata": {
        "execution": {
          "iopub.execute_input": "2023-09-23T20:35:33.385516Z",
          "iopub.status.busy": "2023-09-23T20:35:33.385121Z",
          "iopub.status.idle": "2023-09-23T20:46:57.698982Z",
          "shell.execute_reply": "2023-09-23T20:46:57.697881Z"
        },
        "id": "17f6b77f",
        "outputId": "2067ed43-4df9-4d2b-efd9-1f8c72d5f485",
        "papermill": {
          "duration": 684.339792,
          "end_time": "2023-09-23T20:46:57.701924",
          "exception": false,
          "start_time": "2023-09-23T20:35:33.362132",
          "status": "completed"
        },
        "tags": []
      },
      "outputs": [
        {
          "name": "stdout",
          "output_type": "stream",
          "text": [
            "Epoch 1/50\n",
            "1500/1500 [==============================] - 22s 9ms/step - loss: 0.9077 - accuracy: 0.5371 - val_loss: 0.9071 - val_accuracy: 0.5375\n",
            "Epoch 2/50\n",
            "1500/1500 [==============================] - 12s 8ms/step - loss: 0.5247 - accuracy: 0.8123 - val_loss: 0.3887 - val_accuracy: 0.8572\n",
            "Epoch 3/50\n",
            "1500/1500 [==============================] - 12s 8ms/step - loss: 0.3746 - accuracy: 0.8573 - val_loss: 0.3619 - val_accuracy: 0.8582\n",
            "Epoch 4/50\n",
            "1500/1500 [==============================] - 13s 8ms/step - loss: 0.3588 - accuracy: 0.8589 - val_loss: 0.3531 - val_accuracy: 0.8616\n",
            "Epoch 5/50\n",
            "1500/1500 [==============================] - 12s 8ms/step - loss: 0.3525 - accuracy: 0.8599 - val_loss: 0.3490 - val_accuracy: 0.8605\n",
            "Epoch 6/50\n",
            "1500/1500 [==============================] - 12s 8ms/step - loss: 0.3493 - accuracy: 0.8604 - val_loss: 0.3467 - val_accuracy: 0.8607\n",
            "Epoch 7/50\n",
            "1500/1500 [==============================] - 12s 8ms/step - loss: 0.3479 - accuracy: 0.8603 - val_loss: 0.3463 - val_accuracy: 0.8610\n",
            "Epoch 8/50\n",
            "1500/1500 [==============================] - 12s 8ms/step - loss: 0.3460 - accuracy: 0.8610 - val_loss: 0.3453 - val_accuracy: 0.8562\n",
            "Epoch 9/50\n",
            "1500/1500 [==============================] - 12s 8ms/step - loss: 0.3446 - accuracy: 0.8615 - val_loss: 0.3437 - val_accuracy: 0.8617\n",
            "Epoch 10/50\n",
            "1500/1500 [==============================] - 12s 8ms/step - loss: 0.3312 - accuracy: 0.8722 - val_loss: 0.3120 - val_accuracy: 0.8911\n",
            "Epoch 11/50\n",
            "1500/1500 [==============================] - 12s 8ms/step - loss: 0.3035 - accuracy: 0.8928 - val_loss: 0.2904 - val_accuracy: 0.8946\n",
            "Epoch 12/50\n",
            "1500/1500 [==============================] - 13s 8ms/step - loss: 0.2896 - accuracy: 0.8953 - val_loss: 0.2804 - val_accuracy: 0.8966\n",
            "Epoch 13/50\n",
            "1500/1500 [==============================] - 12s 8ms/step - loss: 0.2822 - accuracy: 0.8967 - val_loss: 0.2753 - val_accuracy: 0.8966\n",
            "Epoch 14/50\n",
            "1500/1500 [==============================] - 13s 9ms/step - loss: 0.2767 - accuracy: 0.8977 - val_loss: 0.2684 - val_accuracy: 0.8989\n",
            "Epoch 15/50\n",
            "1500/1500 [==============================] - 12s 8ms/step - loss: 0.2720 - accuracy: 0.8982 - val_loss: 0.2661 - val_accuracy: 0.8993\n",
            "Epoch 16/50\n",
            "1500/1500 [==============================] - 12s 8ms/step - loss: 0.2681 - accuracy: 0.8988 - val_loss: 0.2600 - val_accuracy: 0.8997\n",
            "Epoch 17/50\n",
            "1500/1500 [==============================] - 12s 8ms/step - loss: 0.2650 - accuracy: 0.8993 - val_loss: 0.2580 - val_accuracy: 0.9007\n",
            "Epoch 18/50\n",
            "1500/1500 [==============================] - 12s 8ms/step - loss: 0.2628 - accuracy: 0.8997 - val_loss: 0.2569 - val_accuracy: 0.8997\n",
            "Epoch 19/50\n",
            "1500/1500 [==============================] - 12s 8ms/step - loss: 0.2611 - accuracy: 0.8999 - val_loss: 0.2552 - val_accuracy: 0.9002\n",
            "Epoch 20/50\n",
            "1500/1500 [==============================] - 13s 9ms/step - loss: 0.2592 - accuracy: 0.9001 - val_loss: 0.2524 - val_accuracy: 0.9007\n",
            "Epoch 21/50\n",
            "1500/1500 [==============================] - 12s 8ms/step - loss: 0.2575 - accuracy: 0.9004 - val_loss: 0.2546 - val_accuracy: 0.9004\n",
            "Epoch 22/50\n",
            "1500/1500 [==============================] - 13s 9ms/step - loss: 0.2566 - accuracy: 0.9007 - val_loss: 0.2501 - val_accuracy: 0.9012\n",
            "Epoch 23/50\n",
            "1500/1500 [==============================] - 12s 8ms/step - loss: 0.2554 - accuracy: 0.9007 - val_loss: 0.2486 - val_accuracy: 0.9016\n",
            "Epoch 24/50\n",
            "1500/1500 [==============================] - 12s 8ms/step - loss: 0.2547 - accuracy: 0.9010 - val_loss: 0.2474 - val_accuracy: 0.9003\n",
            "Epoch 25/50\n",
            "1500/1500 [==============================] - 13s 9ms/step - loss: 0.2536 - accuracy: 0.9011 - val_loss: 0.2491 - val_accuracy: 0.9010\n",
            "Epoch 26/50\n",
            "1500/1500 [==============================] - 12s 8ms/step - loss: 0.2530 - accuracy: 0.9012 - val_loss: 0.2498 - val_accuracy: 0.9001\n",
            "Epoch 27/50\n",
            "1500/1500 [==============================] - 13s 9ms/step - loss: 0.2519 - accuracy: 0.9013 - val_loss: 0.2475 - val_accuracy: 0.9014\n",
            "Epoch 28/50\n",
            "1500/1500 [==============================] - 12s 8ms/step - loss: 0.2519 - accuracy: 0.9014 - val_loss: 0.2470 - val_accuracy: 0.9006\n",
            "Epoch 29/50\n",
            "1500/1500 [==============================] - 12s 8ms/step - loss: 0.2503 - accuracy: 0.9016 - val_loss: 0.2452 - val_accuracy: 0.9020\n",
            "Epoch 30/50\n",
            "1500/1500 [==============================] - 13s 9ms/step - loss: 0.2536 - accuracy: 0.9012 - val_loss: 0.2462 - val_accuracy: 0.9007\n",
            "Epoch 31/50\n",
            "1500/1500 [==============================] - 12s 8ms/step - loss: 0.2508 - accuracy: 0.9014 - val_loss: 0.2447 - val_accuracy: 0.9009\n",
            "Epoch 32/50\n",
            "1500/1500 [==============================] - 12s 8ms/step - loss: 0.2498 - accuracy: 0.9017 - val_loss: 0.2442 - val_accuracy: 0.9013\n",
            "Epoch 33/50\n",
            "1500/1500 [==============================] - 13s 8ms/step - loss: 0.2492 - accuracy: 0.9016 - val_loss: 0.2442 - val_accuracy: 0.9005\n",
            "Epoch 34/50\n",
            "1500/1500 [==============================] - 12s 8ms/step - loss: 0.2488 - accuracy: 0.9017 - val_loss: 0.2437 - val_accuracy: 0.9018\n",
            "Epoch 35/50\n",
            "1500/1500 [==============================] - 13s 9ms/step - loss: 0.2480 - accuracy: 0.9021 - val_loss: 0.2439 - val_accuracy: 0.9013\n",
            "Epoch 36/50\n",
            "1500/1500 [==============================] - 12s 8ms/step - loss: 0.2477 - accuracy: 0.9019 - val_loss: 0.2408 - val_accuracy: 0.9014\n",
            "Epoch 37/50\n",
            "1500/1500 [==============================] - 12s 8ms/step - loss: 0.2469 - accuracy: 0.9021 - val_loss: 0.2420 - val_accuracy: 0.9014\n",
            "Epoch 38/50\n",
            "1500/1500 [==============================] - 13s 9ms/step - loss: 0.2465 - accuracy: 0.9021 - val_loss: 0.2410 - val_accuracy: 0.9029\n",
            "Epoch 39/50\n",
            "1500/1500 [==============================] - 12s 8ms/step - loss: 0.2460 - accuracy: 0.9023 - val_loss: 0.2416 - val_accuracy: 0.9018\n",
            "Epoch 40/50\n",
            "1500/1500 [==============================] - 14s 9ms/step - loss: 0.2459 - accuracy: 0.9023 - val_loss: 0.2395 - val_accuracy: 0.9033\n",
            "Epoch 41/50\n",
            "1500/1500 [==============================] - 12s 8ms/step - loss: 0.2480 - accuracy: 0.9020 - val_loss: 0.2393 - val_accuracy: 0.9030\n",
            "Epoch 42/50\n",
            "1500/1500 [==============================] - 12s 8ms/step - loss: 0.2440 - accuracy: 0.9027 - val_loss: 0.2382 - val_accuracy: 0.9019\n",
            "Epoch 43/50\n",
            "1500/1500 [==============================] - 13s 9ms/step - loss: 0.2436 - accuracy: 0.9026 - val_loss: 0.2430 - val_accuracy: 0.9023\n",
            "Epoch 44/50\n",
            "1500/1500 [==============================] - 12s 8ms/step - loss: 0.2423 - accuracy: 0.9029 - val_loss: 0.2381 - val_accuracy: 0.9020\n",
            "Epoch 45/50\n",
            "1500/1500 [==============================] - 12s 8ms/step - loss: 0.2421 - accuracy: 0.9029 - val_loss: 0.2391 - val_accuracy: 0.9012\n",
            "Epoch 46/50\n",
            "1500/1500 [==============================] - 12s 8ms/step - loss: 0.2420 - accuracy: 0.9028 - val_loss: 0.2389 - val_accuracy: 0.9023\n",
            "Epoch 47/50\n",
            "1500/1500 [==============================] - 12s 8ms/step - loss: 0.2417 - accuracy: 0.9031 - val_loss: 0.2362 - val_accuracy: 0.9022\n",
            "Epoch 48/50\n",
            "1500/1500 [==============================] - 13s 8ms/step - loss: 0.2407 - accuracy: 0.9031 - val_loss: 0.2359 - val_accuracy: 0.9024\n",
            "Epoch 49/50\n",
            "1500/1500 [==============================] - 12s 8ms/step - loss: 0.2400 - accuracy: 0.9032 - val_loss: 0.2386 - val_accuracy: 0.9018\n",
            "Epoch 50/50\n",
            "1500/1500 [==============================] - 12s 8ms/step - loss: 0.2400 - accuracy: 0.9033 - val_loss: 0.2369 - val_accuracy: 0.9035\n"
          ]
        }
      ],
      "source": [
        "history=model.fit(X_train, y_train, epochs=50, batch_size=512, validation_data=(X_test,y_test))"
      ]
    },
    {
      "cell_type": "markdown",
      "id": "13aeeff5",
      "metadata": {
        "id": "13aeeff5",
        "papermill": {
          "duration": 0.932505,
          "end_time": "2023-09-23T20:46:59.504349",
          "exception": false,
          "start_time": "2023-09-23T20:46:58.571844",
          "status": "completed"
        },
        "tags": []
      },
      "source": [
        "# Decision Tree Classifier"
      ]
    },
    {
      "cell_type": "code",
      "execution_count": null,
      "id": "d2962b97",
      "metadata": {
        "execution": {
          "iopub.execute_input": "2023-09-23T20:47:01.357316Z",
          "iopub.status.busy": "2023-09-23T20:47:01.355109Z",
          "iopub.status.idle": "2023-09-23T20:51:27.764647Z",
          "shell.execute_reply": "2023-09-23T20:51:27.763401Z"
        },
        "id": "d2962b97",
        "outputId": "7e9089f5-6708-472d-c5a5-5f75f0cceab8",
        "papermill": {
          "duration": 268.29602,
          "end_time": "2023-09-23T20:51:28.680529",
          "exception": false,
          "start_time": "2023-09-23T20:47:00.384509",
          "status": "completed"
        },
        "tags": []
      },
      "outputs": [
        {
          "name": "stderr",
          "output_type": "stream",
          "text": [
            "/opt/conda/lib/python3.10/site-packages/scipy/__init__.py:146: UserWarning: A NumPy version >=1.16.5 and <1.23.0 is required for this version of SciPy (detected version 1.23.5\n",
            "  warnings.warn(f\"A NumPy version >={np_minversion} and <{np_maxversion}\"\n",
            "/opt/conda/lib/python3.10/site-packages/scipy/__init__.py:146: UserWarning: A NumPy version >=1.16.5 and <1.23.0 is required for this version of SciPy (detected version 1.23.5\n",
            "  warnings.warn(f\"A NumPy version >={np_minversion} and <{np_maxversion}\"\n"
          ]
        },
        {
          "data": {
            "text/html": [
              "<style>#sk-container-id-1 {color: black;background-color: white;}#sk-container-id-1 pre{padding: 0;}#sk-container-id-1 div.sk-toggleable {background-color: white;}#sk-container-id-1 label.sk-toggleable__label {cursor: pointer;display: block;width: 100%;margin-bottom: 0;padding: 0.3em;box-sizing: border-box;text-align: center;}#sk-container-id-1 label.sk-toggleable__label-arrow:before {content: \"▸\";float: left;margin-right: 0.25em;color: #696969;}#sk-container-id-1 label.sk-toggleable__label-arrow:hover:before {color: black;}#sk-container-id-1 div.sk-estimator:hover label.sk-toggleable__label-arrow:before {color: black;}#sk-container-id-1 div.sk-toggleable__content {max-height: 0;max-width: 0;overflow: hidden;text-align: left;background-color: #f0f8ff;}#sk-container-id-1 div.sk-toggleable__content pre {margin: 0.2em;color: black;border-radius: 0.25em;background-color: #f0f8ff;}#sk-container-id-1 input.sk-toggleable__control:checked~div.sk-toggleable__content {max-height: 200px;max-width: 100%;overflow: auto;}#sk-container-id-1 input.sk-toggleable__control:checked~label.sk-toggleable__label-arrow:before {content: \"▾\";}#sk-container-id-1 div.sk-estimator input.sk-toggleable__control:checked~label.sk-toggleable__label {background-color: #d4ebff;}#sk-container-id-1 div.sk-label input.sk-toggleable__control:checked~label.sk-toggleable__label {background-color: #d4ebff;}#sk-container-id-1 input.sk-hidden--visually {border: 0;clip: rect(1px 1px 1px 1px);clip: rect(1px, 1px, 1px, 1px);height: 1px;margin: -1px;overflow: hidden;padding: 0;position: absolute;width: 1px;}#sk-container-id-1 div.sk-estimator {font-family: monospace;background-color: #f0f8ff;border: 1px dotted black;border-radius: 0.25em;box-sizing: border-box;margin-bottom: 0.5em;}#sk-container-id-1 div.sk-estimator:hover {background-color: #d4ebff;}#sk-container-id-1 div.sk-parallel-item::after {content: \"\";width: 100%;border-bottom: 1px solid gray;flex-grow: 1;}#sk-container-id-1 div.sk-label:hover label.sk-toggleable__label {background-color: #d4ebff;}#sk-container-id-1 div.sk-serial::before {content: \"\";position: absolute;border-left: 1px solid gray;box-sizing: border-box;top: 0;bottom: 0;left: 50%;z-index: 0;}#sk-container-id-1 div.sk-serial {display: flex;flex-direction: column;align-items: center;background-color: white;padding-right: 0.2em;padding-left: 0.2em;position: relative;}#sk-container-id-1 div.sk-item {position: relative;z-index: 1;}#sk-container-id-1 div.sk-parallel {display: flex;align-items: stretch;justify-content: center;background-color: white;position: relative;}#sk-container-id-1 div.sk-item::before, #sk-container-id-1 div.sk-parallel-item::before {content: \"\";position: absolute;border-left: 1px solid gray;box-sizing: border-box;top: 0;bottom: 0;left: 50%;z-index: -1;}#sk-container-id-1 div.sk-parallel-item {display: flex;flex-direction: column;z-index: 1;position: relative;background-color: white;}#sk-container-id-1 div.sk-parallel-item:first-child::after {align-self: flex-end;width: 50%;}#sk-container-id-1 div.sk-parallel-item:last-child::after {align-self: flex-start;width: 50%;}#sk-container-id-1 div.sk-parallel-item:only-child::after {width: 0;}#sk-container-id-1 div.sk-dashed-wrapped {border: 1px dashed gray;margin: 0 0.4em 0.5em 0.4em;box-sizing: border-box;padding-bottom: 0.4em;background-color: white;}#sk-container-id-1 div.sk-label label {font-family: monospace;font-weight: bold;display: inline-block;line-height: 1.2em;}#sk-container-id-1 div.sk-label-container {text-align: center;}#sk-container-id-1 div.sk-container {/* jupyter's `normalize.less` sets `[hidden] { display: none; }` but bootstrap.min.css set `[hidden] { display: none !important; }` so we also need the `!important` here to be able to override the default hidden behavior on the sphinx rendered scikit-learn.org. See: https://github.com/scikit-learn/scikit-learn/issues/21755 */display: inline-block !important;position: relative;}#sk-container-id-1 div.sk-text-repr-fallback {display: none;}</style><div id=\"sk-container-id-1\" class=\"sk-top-container\"><div class=\"sk-text-repr-fallback\"><pre>RandomizedSearchCV(cv=5,\n",
              "                   estimator=DecisionTreeClassifier(criterion=&#x27;entropy&#x27;,\n",
              "                                                    max_depth=5),\n",
              "                   n_iter=20, n_jobs=-1,\n",
              "                   param_distributions={&#x27;criterion&#x27;: [&#x27;gini&#x27;, &#x27;entropy&#x27;],\n",
              "                                        &#x27;max_depth&#x27;: &lt;scipy.stats._distn_infrastructure.rv_frozen object at 0x7ec5cc3e6a40&gt;,\n",
              "                                        &#x27;min_samples_leaf&#x27;: [1, 2, 3, 4, 5],\n",
              "                                        &#x27;min_samples_split&#x27;: &lt;scipy.stats._distn_infrastructure.rv_frozen object at 0x7ec5c03eba90&gt;})</pre><b>In a Jupyter environment, please rerun this cell to show the HTML representation or trust the notebook. <br />On GitHub, the HTML representation is unable to render, please try loading this page with nbviewer.org.</b></div><div class=\"sk-container\" hidden><div class=\"sk-item sk-dashed-wrapped\"><div class=\"sk-label-container\"><div class=\"sk-label sk-toggleable\"><input class=\"sk-toggleable__control sk-hidden--visually\" id=\"sk-estimator-id-1\" type=\"checkbox\" ><label for=\"sk-estimator-id-1\" class=\"sk-toggleable__label sk-toggleable__label-arrow\">RandomizedSearchCV</label><div class=\"sk-toggleable__content\"><pre>RandomizedSearchCV(cv=5,\n",
              "                   estimator=DecisionTreeClassifier(criterion=&#x27;entropy&#x27;,\n",
              "                                                    max_depth=5),\n",
              "                   n_iter=20, n_jobs=-1,\n",
              "                   param_distributions={&#x27;criterion&#x27;: [&#x27;gini&#x27;, &#x27;entropy&#x27;],\n",
              "                                        &#x27;max_depth&#x27;: &lt;scipy.stats._distn_infrastructure.rv_frozen object at 0x7ec5cc3e6a40&gt;,\n",
              "                                        &#x27;min_samples_leaf&#x27;: [1, 2, 3, 4, 5],\n",
              "                                        &#x27;min_samples_split&#x27;: &lt;scipy.stats._distn_infrastructure.rv_frozen object at 0x7ec5c03eba90&gt;})</pre></div></div></div><div class=\"sk-parallel\"><div class=\"sk-parallel-item\"><div class=\"sk-item\"><div class=\"sk-label-container\"><div class=\"sk-label sk-toggleable\"><input class=\"sk-toggleable__control sk-hidden--visually\" id=\"sk-estimator-id-2\" type=\"checkbox\" ><label for=\"sk-estimator-id-2\" class=\"sk-toggleable__label sk-toggleable__label-arrow\">estimator: DecisionTreeClassifier</label><div class=\"sk-toggleable__content\"><pre>DecisionTreeClassifier(criterion=&#x27;entropy&#x27;, max_depth=5)</pre></div></div></div><div class=\"sk-serial\"><div class=\"sk-item\"><div class=\"sk-estimator sk-toggleable\"><input class=\"sk-toggleable__control sk-hidden--visually\" id=\"sk-estimator-id-3\" type=\"checkbox\" ><label for=\"sk-estimator-id-3\" class=\"sk-toggleable__label sk-toggleable__label-arrow\">DecisionTreeClassifier</label><div class=\"sk-toggleable__content\"><pre>DecisionTreeClassifier(criterion=&#x27;entropy&#x27;, max_depth=5)</pre></div></div></div></div></div></div></div></div></div></div>"
            ],
            "text/plain": [
              "RandomizedSearchCV(cv=5,\n",
              "                   estimator=DecisionTreeClassifier(criterion='entropy',\n",
              "                                                    max_depth=5),\n",
              "                   n_iter=20, n_jobs=-1,\n",
              "                   param_distributions={'criterion': ['gini', 'entropy'],\n",
              "                                        'max_depth': <scipy.stats._distn_infrastructure.rv_frozen object at 0x7ec5cc3e6a40>,\n",
              "                                        'min_samples_leaf': [1, 2, 3, 4, 5],\n",
              "                                        'min_samples_split': <scipy.stats._distn_infrastructure.rv_frozen object at 0x7ec5c03eba90>})"
            ]
          },
          "execution_count": 40,
          "metadata": {},
          "output_type": "execute_result"
        }
      ],
      "source": [
        "from sklearn.tree import DecisionTreeClassifier\n",
        "dt = DecisionTreeClassifier(criterion = 'entropy', max_depth=5)\n",
        "\n",
        "parameters = {'max_depth': randint(2, 10), 'min_samples_split': randint(2, 10), 'min_samples_leaf': [1, 2, 3, 4, 5], 'criterion': ['gini', 'entropy']}\n",
        "\n",
        "random_search = RandomizedSearchCV(dt, param_distributions=parameters, n_iter=20, cv=5, n_jobs=-1)\n",
        "random_search.fit(X_train, y_train)\n",
        "# best_accuracy = random_search.best_score_\n",
        "# best_parameters = random_search.best_params_\n",
        "\n",
        "# print(\"Best Accuracy: {:.2f} %\".format(best_accuracy*100))\n",
        "# print(\"Best Parameters:\", best_parameters)"
      ]
    },
    {
      "cell_type": "code",
      "execution_count": null,
      "id": "eb9b4a89",
      "metadata": {
        "execution": {
          "iopub.execute_input": "2023-09-23T20:51:30.550122Z",
          "iopub.status.busy": "2023-09-23T20:51:30.549730Z",
          "iopub.status.idle": "2023-09-23T20:51:34.138700Z",
          "shell.execute_reply": "2023-09-23T20:51:34.136443Z"
        },
        "id": "eb9b4a89",
        "outputId": "f62553d4-0729-4ab3-e9ee-c907cd95b8a5",
        "papermill": {
          "duration": 4.55734,
          "end_time": "2023-09-23T20:51:34.141088",
          "exception": false,
          "start_time": "2023-09-23T20:51:29.583748",
          "status": "completed"
        },
        "tags": []
      },
      "outputs": [
        {
          "name": "stdout",
          "output_type": "stream",
          "text": [
            "Accuracy on Training set:  0.9602748718376193\n",
            "Accuracy on Testing set:  0.9599624892547344\n"
          ]
        }
      ],
      "source": [
        "from sklearn import metrics\n",
        "# dt = DecisionTreeClassifier(**random_search.best_params_)\n",
        "dt.fit(X_train,y_train)\n",
        "\n",
        "# Predicting Train & Test Results\n",
        "y_dt = dt.predict(X_train)\n",
        "y_pred_dt = dt.predict(X_test)\n",
        "\n",
        "# Accuracy\n",
        "print(\"Accuracy on Training set: \",metrics.accuracy_score(y_train, y_dt))\n",
        "print(\"Accuracy on Testing set: \",metrics.accuracy_score(y_test, y_pred_dt))"
      ]
    },
    {
      "cell_type": "code",
      "execution_count": null,
      "id": "95a9e5b9",
      "metadata": {
        "execution": {
          "iopub.execute_input": "2023-09-23T20:51:35.969285Z",
          "iopub.status.busy": "2023-09-23T20:51:35.968868Z",
          "iopub.status.idle": "2023-09-23T20:51:35.990722Z",
          "shell.execute_reply": "2023-09-23T20:51:35.989635Z"
        },
        "id": "95a9e5b9",
        "outputId": "7c758f0a-2181-4ee8-cd9b-d34e7cd68907",
        "papermill": {
          "duration": 0.964605,
          "end_time": "2023-09-23T20:51:35.993041",
          "exception": false,
          "start_time": "2023-09-23T20:51:35.028436",
          "status": "completed"
        },
        "tags": []
      },
      "outputs": [
        {
          "name": "stdout",
          "output_type": "stream",
          "text": [
            "767776\n",
            "Malicious: 56839\n",
            "Outliers: 298211\n",
            "Benign: 412726\n"
          ]
        }
      ],
      "source": [
        "print(len(y_dt))\n",
        "print(f\"Malicious: {len(y_dt[y_dt==1])}\")\n",
        "print(f\"Outliers: {len(y_dt[y_dt==0])}\")\n",
        "print(f\"Benign: {len(y_dt[y_dt==2])}\")"
      ]
    },
    {
      "cell_type": "markdown",
      "id": "d836f80b",
      "metadata": {
        "id": "d836f80b",
        "papermill": {
          "duration": 0.871505,
          "end_time": "2023-09-23T20:51:37.743128",
          "exception": false,
          "start_time": "2023-09-23T20:51:36.871623",
          "status": "completed"
        },
        "tags": []
      },
      "source": [
        "# Random Forest Classifier"
      ]
    },
    {
      "cell_type": "code",
      "execution_count": null,
      "id": "ad9b5a75",
      "metadata": {
        "execution": {
          "iopub.execute_input": "2023-09-23T20:51:39.637478Z",
          "iopub.status.busy": "2023-09-23T20:51:39.637095Z",
          "iopub.status.idle": "2023-09-23T20:52:45.090445Z",
          "shell.execute_reply": "2023-09-23T20:52:45.089446Z"
        },
        "id": "ad9b5a75",
        "outputId": "6f212ce7-27d7-4ff8-961a-65a1daec1e38",
        "papermill": {
          "duration": 67.21317,
          "end_time": "2023-09-23T20:52:45.953401",
          "exception": false,
          "start_time": "2023-09-23T20:51:38.740231",
          "status": "completed"
        },
        "tags": []
      },
      "outputs": [
        {
          "data": {
            "text/html": [
              "<style>#sk-container-id-2 {color: black;background-color: white;}#sk-container-id-2 pre{padding: 0;}#sk-container-id-2 div.sk-toggleable {background-color: white;}#sk-container-id-2 label.sk-toggleable__label {cursor: pointer;display: block;width: 100%;margin-bottom: 0;padding: 0.3em;box-sizing: border-box;text-align: center;}#sk-container-id-2 label.sk-toggleable__label-arrow:before {content: \"▸\";float: left;margin-right: 0.25em;color: #696969;}#sk-container-id-2 label.sk-toggleable__label-arrow:hover:before {color: black;}#sk-container-id-2 div.sk-estimator:hover label.sk-toggleable__label-arrow:before {color: black;}#sk-container-id-2 div.sk-toggleable__content {max-height: 0;max-width: 0;overflow: hidden;text-align: left;background-color: #f0f8ff;}#sk-container-id-2 div.sk-toggleable__content pre {margin: 0.2em;color: black;border-radius: 0.25em;background-color: #f0f8ff;}#sk-container-id-2 input.sk-toggleable__control:checked~div.sk-toggleable__content {max-height: 200px;max-width: 100%;overflow: auto;}#sk-container-id-2 input.sk-toggleable__control:checked~label.sk-toggleable__label-arrow:before {content: \"▾\";}#sk-container-id-2 div.sk-estimator input.sk-toggleable__control:checked~label.sk-toggleable__label {background-color: #d4ebff;}#sk-container-id-2 div.sk-label input.sk-toggleable__control:checked~label.sk-toggleable__label {background-color: #d4ebff;}#sk-container-id-2 input.sk-hidden--visually {border: 0;clip: rect(1px 1px 1px 1px);clip: rect(1px, 1px, 1px, 1px);height: 1px;margin: -1px;overflow: hidden;padding: 0;position: absolute;width: 1px;}#sk-container-id-2 div.sk-estimator {font-family: monospace;background-color: #f0f8ff;border: 1px dotted black;border-radius: 0.25em;box-sizing: border-box;margin-bottom: 0.5em;}#sk-container-id-2 div.sk-estimator:hover {background-color: #d4ebff;}#sk-container-id-2 div.sk-parallel-item::after {content: \"\";width: 100%;border-bottom: 1px solid gray;flex-grow: 1;}#sk-container-id-2 div.sk-label:hover label.sk-toggleable__label {background-color: #d4ebff;}#sk-container-id-2 div.sk-serial::before {content: \"\";position: absolute;border-left: 1px solid gray;box-sizing: border-box;top: 0;bottom: 0;left: 50%;z-index: 0;}#sk-container-id-2 div.sk-serial {display: flex;flex-direction: column;align-items: center;background-color: white;padding-right: 0.2em;padding-left: 0.2em;position: relative;}#sk-container-id-2 div.sk-item {position: relative;z-index: 1;}#sk-container-id-2 div.sk-parallel {display: flex;align-items: stretch;justify-content: center;background-color: white;position: relative;}#sk-container-id-2 div.sk-item::before, #sk-container-id-2 div.sk-parallel-item::before {content: \"\";position: absolute;border-left: 1px solid gray;box-sizing: border-box;top: 0;bottom: 0;left: 50%;z-index: -1;}#sk-container-id-2 div.sk-parallel-item {display: flex;flex-direction: column;z-index: 1;position: relative;background-color: white;}#sk-container-id-2 div.sk-parallel-item:first-child::after {align-self: flex-end;width: 50%;}#sk-container-id-2 div.sk-parallel-item:last-child::after {align-self: flex-start;width: 50%;}#sk-container-id-2 div.sk-parallel-item:only-child::after {width: 0;}#sk-container-id-2 div.sk-dashed-wrapped {border: 1px dashed gray;margin: 0 0.4em 0.5em 0.4em;box-sizing: border-box;padding-bottom: 0.4em;background-color: white;}#sk-container-id-2 div.sk-label label {font-family: monospace;font-weight: bold;display: inline-block;line-height: 1.2em;}#sk-container-id-2 div.sk-label-container {text-align: center;}#sk-container-id-2 div.sk-container {/* jupyter's `normalize.less` sets `[hidden] { display: none; }` but bootstrap.min.css set `[hidden] { display: none !important; }` so we also need the `!important` here to be able to override the default hidden behavior on the sphinx rendered scikit-learn.org. See: https://github.com/scikit-learn/scikit-learn/issues/21755 */display: inline-block !important;position: relative;}#sk-container-id-2 div.sk-text-repr-fallback {display: none;}</style><div id=\"sk-container-id-2\" class=\"sk-top-container\"><div class=\"sk-text-repr-fallback\"><pre>RandomForestClassifier(n_estimators=40)</pre><b>In a Jupyter environment, please rerun this cell to show the HTML representation or trust the notebook. <br />On GitHub, the HTML representation is unable to render, please try loading this page with nbviewer.org.</b></div><div class=\"sk-container\" hidden><div class=\"sk-item\"><div class=\"sk-estimator sk-toggleable\"><input class=\"sk-toggleable__control sk-hidden--visually\" id=\"sk-estimator-id-4\" type=\"checkbox\" checked><label for=\"sk-estimator-id-4\" class=\"sk-toggleable__label sk-toggleable__label-arrow\">RandomForestClassifier</label><div class=\"sk-toggleable__content\"><pre>RandomForestClassifier(n_estimators=40)</pre></div></div></div></div></div>"
            ],
            "text/plain": [
              "RandomForestClassifier(n_estimators=40)"
            ]
          },
          "execution_count": 43,
          "metadata": {},
          "output_type": "execute_result"
        }
      ],
      "source": [
        "from sklearn.ensemble import RandomForestClassifier\n",
        "rf = RandomForestClassifier(n_estimators=40)\n",
        "\n",
        "parameters = {'n_estimators': randint(50, 100), 'max_depth': randint(2, 8), 'min_samples_split': randint(2, 10),\n",
        "              'min_samples_leaf': randint(1, 10), 'max_features': ['sqrt', 'log2', None]}\n",
        "\n",
        "# random_search = RandomizedSearchCV(rf, n_iter=20, cv=5, n_jobs=-1)\n",
        "rf.fit(X_train, y_train)\n",
        "# best_accuracy = rf.accuracy\n",
        "# best_parameters = rf.best_params_\n",
        "\n",
        "# print(\"Best Accuracy: {:.2f} %\".format(best_accuracy*100))\n",
        "# print(\"Best Parameters:\", best_parameters)"
      ]
    },
    {
      "cell_type": "code",
      "execution_count": null,
      "id": "2e758f42",
      "metadata": {
        "execution": {
          "iopub.execute_input": "2023-09-23T20:52:47.800039Z",
          "iopub.status.busy": "2023-09-23T20:52:47.799659Z",
          "iopub.status.idle": "2023-09-23T20:52:52.641006Z",
          "shell.execute_reply": "2023-09-23T20:52:52.639944Z"
        },
        "id": "2e758f42",
        "outputId": "a96f6a76-d565-4e62-991f-58c4311ee775",
        "papermill": {
          "duration": 5.736661,
          "end_time": "2023-09-23T20:52:52.644026",
          "exception": false,
          "start_time": "2023-09-23T20:52:46.907365",
          "status": "completed"
        },
        "tags": []
      },
      "outputs": [
        {
          "name": "stdout",
          "output_type": "stream",
          "text": [
            "Accuracy on Training set:  0.999914037427583\n",
            "Accuracy on Testing set:  0.9916486493526792\n"
          ]
        }
      ],
      "source": [
        "# best_rf = RandomForestClassifier(rf)\n",
        "# best_rf.fit(X_train, y_train)\n",
        "\n",
        "# Predicting Train & Test Results\n",
        "y_rf = rf.predict(X_train)\n",
        "y_pred_rf = rf.predict(X_test)\n",
        "\n",
        "# Accuracy\n",
        "print(\"Accuracy on Training set: \",metrics.accuracy_score(y_train, y_rf))\n",
        "print(\"Accuracy on Testing set: \",metrics.accuracy_score(y_test, y_pred_rf))"
      ]
    },
    {
      "cell_type": "code",
      "execution_count": null,
      "id": "6c96d86c",
      "metadata": {
        "execution": {
          "iopub.execute_input": "2023-09-23T20:52:55.093598Z",
          "iopub.status.busy": "2023-09-23T20:52:55.093196Z",
          "iopub.status.idle": "2023-09-23T20:52:55.110272Z",
          "shell.execute_reply": "2023-09-23T20:52:55.109046Z"
        },
        "id": "6c96d86c",
        "outputId": "a6959566-4a18-4ac2-e191-4b6cbdae0cde",
        "papermill": {
          "duration": 0.992441,
          "end_time": "2023-09-23T20:52:55.112855",
          "exception": false,
          "start_time": "2023-09-23T20:52:54.120414",
          "status": "completed"
        },
        "tags": []
      },
      "outputs": [
        {
          "name": "stdout",
          "output_type": "stream",
          "text": [
            "[0]\n"
          ]
        }
      ],
      "source": [
        "print(rf.predict(X_train[1].reshape(1,-1)))"
      ]
    },
    {
      "cell_type": "markdown",
      "id": "4bffb0f0",
      "metadata": {
        "id": "4bffb0f0",
        "papermill": {
          "duration": 0.903457,
          "end_time": "2023-09-23T20:52:57.040066",
          "exception": false,
          "start_time": "2023-09-23T20:52:56.136609",
          "status": "completed"
        },
        "tags": []
      },
      "source": [
        "# Creating Classification Reports"
      ]
    },
    {
      "cell_type": "markdown",
      "id": "e57794a5",
      "metadata": {
        "id": "e57794a5",
        "papermill": {
          "duration": 0.950512,
          "end_time": "2023-09-23T20:52:58.909677",
          "exception": false,
          "start_time": "2023-09-23T20:52:57.959165",
          "status": "completed"
        },
        "tags": []
      },
      "source": [
        "## Decision Tree"
      ]
    },
    {
      "cell_type": "code",
      "execution_count": null,
      "id": "0ff48dd5",
      "metadata": {
        "execution": {
          "iopub.execute_input": "2023-09-23T20:53:00.774035Z",
          "iopub.status.busy": "2023-09-23T20:53:00.773640Z",
          "iopub.status.idle": "2023-09-23T20:53:01.068357Z",
          "shell.execute_reply": "2023-09-23T20:53:01.066487Z"
        },
        "id": "0ff48dd5",
        "outputId": "55b75be2-c96a-4524-84d9-db1594de02c7",
        "papermill": {
          "duration": 1.277856,
          "end_time": "2023-09-23T20:53:01.070930",
          "exception": false,
          "start_time": "2023-09-23T20:52:59.793074",
          "status": "completed"
        },
        "tags": []
      },
      "outputs": [
        {
          "name": "stdout",
          "output_type": "stream",
          "text": [
            "              precision    recall  f1-score   support\n",
            "\n",
            "           0       0.94      0.96      0.95     73000\n",
            "           1       0.79      0.71      0.75     15765\n",
            "           2       1.00      1.00      1.00    103180\n",
            "\n",
            "    accuracy                           0.96    191945\n",
            "   macro avg       0.91      0.89      0.90    191945\n",
            "weighted avg       0.96      0.96      0.96    191945\n",
            "\n"
          ]
        }
      ],
      "source": [
        "from sklearn.metrics import classification_report\n",
        "\n",
        "# generate classification report\n",
        "target_names = ['0', '1','2']\n",
        "print(classification_report(y_test, y_pred_dt, target_names=target_names))"
      ]
    },
    {
      "cell_type": "markdown",
      "id": "cb4edb07",
      "metadata": {
        "id": "cb4edb07",
        "papermill": {
          "duration": 0.88654,
          "end_time": "2023-09-23T20:53:02.904230",
          "exception": false,
          "start_time": "2023-09-23T20:53:02.017690",
          "status": "completed"
        },
        "tags": []
      },
      "source": [
        "## Random Forest"
      ]
    },
    {
      "cell_type": "code",
      "execution_count": null,
      "id": "082ae914",
      "metadata": {
        "execution": {
          "iopub.execute_input": "2023-09-23T20:53:04.829807Z",
          "iopub.status.busy": "2023-09-23T20:53:04.829334Z",
          "iopub.status.idle": "2023-09-23T20:53:05.123804Z",
          "shell.execute_reply": "2023-09-23T20:53:05.122508Z"
        },
        "id": "082ae914",
        "outputId": "b90cb685-8481-4280-f65e-2b8fcf26dd3f",
        "papermill": {
          "duration": 1.233829,
          "end_time": "2023-09-23T20:53:05.127214",
          "exception": false,
          "start_time": "2023-09-23T20:53:03.893385",
          "status": "completed"
        },
        "tags": []
      },
      "outputs": [
        {
          "name": "stdout",
          "output_type": "stream",
          "text": [
            "              precision    recall  f1-score   support\n",
            "\n",
            "           0       0.99      0.99      0.99     73000\n",
            "           1       0.96      0.94      0.95     15765\n",
            "           2       1.00      1.00      1.00    103180\n",
            "\n",
            "    accuracy                           0.99    191945\n",
            "   macro avg       0.98      0.98      0.98    191945\n",
            "weighted avg       0.99      0.99      0.99    191945\n",
            "\n"
          ]
        }
      ],
      "source": [
        "from sklearn.metrics import classification_report\n",
        "\n",
        "# generate classification report\n",
        "target_names = ['0', '1','2']\n",
        "print(classification_report(y_test, y_pred_rf, target_names=target_names))"
      ]
    },
    {
      "cell_type": "markdown",
      "id": "e5904466",
      "metadata": {
        "id": "e5904466",
        "papermill": {
          "duration": 0.946099,
          "end_time": "2023-09-23T20:53:07.021086",
          "exception": false,
          "start_time": "2023-09-23T20:53:06.074987",
          "status": "completed"
        },
        "tags": []
      },
      "source": [
        "# Saving the Models"
      ]
    },
    {
      "cell_type": "code",
      "execution_count": null,
      "id": "f3826335",
      "metadata": {
        "execution": {
          "iopub.execute_input": "2023-09-23T20:53:08.879898Z",
          "iopub.status.busy": "2023-09-23T20:53:08.879511Z",
          "iopub.status.idle": "2023-09-23T20:53:08.963043Z",
          "shell.execute_reply": "2023-09-23T20:53:08.961885Z"
        },
        "id": "f3826335",
        "outputId": "e8f94eb0-0fca-4bd5-83b1-c104a6802a0d",
        "papermill": {
          "duration": 1.047073,
          "end_time": "2023-09-23T20:53:08.965885",
          "exception": false,
          "start_time": "2023-09-23T20:53:07.918812",
          "status": "completed"
        },
        "tags": []
      },
      "outputs": [
        {
          "data": {
            "text/plain": [
              "['random_forest.joblib']"
            ]
          },
          "execution_count": 48,
          "metadata": {},
          "output_type": "execute_result"
        }
      ],
      "source": [
        "from joblib import dump,load\n",
        "filename = 'random_forest.joblib'\n",
        "# linear_svm, knn, decision tree, random forest\n",
        "model = rf\n",
        "dump(model, filename)"
      ]
    },
    {
      "cell_type": "code",
      "execution_count": null,
      "id": "67d8f079",
      "metadata": {
        "execution": {
          "iopub.execute_input": "2023-09-23T20:53:10.743529Z",
          "iopub.status.busy": "2023-09-23T20:53:10.743143Z",
          "iopub.status.idle": "2023-09-23T20:53:10.825966Z",
          "shell.execute_reply": "2023-09-23T20:53:10.824859Z"
        },
        "id": "67d8f079",
        "papermill": {
          "duration": 0.993225,
          "end_time": "2023-09-23T20:53:10.829015",
          "exception": false,
          "start_time": "2023-09-23T20:53:09.835790",
          "status": "completed"
        },
        "tags": []
      },
      "outputs": [],
      "source": [
        "ml_model=joblib.load('/kaggle/working/random_forest.joblib')"
      ]
    },
    {
      "cell_type": "code",
      "execution_count": null,
      "id": "5bfa49df",
      "metadata": {
        "execution": {
          "iopub.execute_input": "2023-09-23T20:53:12.668889Z",
          "iopub.status.busy": "2023-09-23T20:53:12.668504Z",
          "iopub.status.idle": "2023-09-23T20:53:12.767659Z",
          "shell.execute_reply": "2023-09-23T20:53:12.765611Z"
        },
        "id": "5bfa49df",
        "outputId": "3318b96a-60bf-4e30-83b3-a50c09fd93e1",
        "papermill": {
          "duration": 0.986762,
          "end_time": "2023-09-23T20:53:12.770646",
          "exception": false,
          "start_time": "2023-09-23T20:53:11.783884",
          "status": "completed"
        },
        "tags": []
      },
      "outputs": [
        {
          "name": "stdout",
          "output_type": "stream",
          "text": [
            "Data received is an outlier\n",
            "Data received is Benign\n",
            "Data received is an outlier\n",
            "Data received is Benign\n",
            "Data received is an outlier\n",
            "Data received is Benign\n",
            "Data received is an outlier\n",
            "Data received is Benign\n",
            "Data received is an outlier\n",
            "Data received is Benign\n",
            "Data received is an outlier\n",
            "Data received is Benign\n",
            "Data received is an outlier\n",
            "Data received is Malicious\n"
          ]
        }
      ],
      "source": [
        "for i in range(1,15):\n",
        "    output=ml_model.predict(X_train[i].reshape(1,-1))\n",
        "    if(output==0):\n",
        "        print(\"Data received is an outlier\")\n",
        "    elif(output==1):\n",
        "        print(\"Data received is Malicious\")\n",
        "    elif(output==2):\n",
        "        print(\"Data received is Benign\")"
      ]
    }
  ],
  "metadata": {
    "colab": {
      "provenance": []
    },
    "kernelspec": {
      "display_name": "Python 3",
      "language": "python",
      "name": "python3"
    },
    "language_info": {
      "codemirror_mode": {
        "name": "ipython",
        "version": 3
      },
      "file_extension": ".py",
      "mimetype": "text/x-python",
      "name": "python",
      "nbconvert_exporter": "python",
      "pygments_lexer": "ipython3",
      "version": "3.10.10"
    },
    "papermill": {
      "default_parameters": {},
      "duration": 1099.879211,
      "end_time": "2023-09-23T20:53:16.922959",
      "environment_variables": {},
      "exception": null,
      "input_path": "__notebook__.ipynb",
      "output_path": "__notebook__.ipynb",
      "parameters": {},
      "start_time": "2023-09-23T20:34:57.043748",
      "version": "2.4.0"
    }
  },
  "nbformat": 4,
  "nbformat_minor": 5
}
